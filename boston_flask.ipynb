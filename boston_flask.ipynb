{
 "cells": [
  {
   "cell_type": "code",
   "execution_count": 13,
   "metadata": {},
   "outputs": [],
   "source": [
    "from sklearn import datasets\n",
    "from sklearn.ensemble import RandomForestRegressor\n",
    "from sklearn.model_selection import train_test_split\n",
    "from sklearn.metrics import accuracy_score\n",
    "from sklearn.metrics import classification_report\n",
    "\n",
    "import pickle\n",
    "#conda install requests will be needed\n",
    "import requests, json"
   ]
  },
  {
   "cell_type": "code",
   "execution_count": 4,
   "metadata": {},
   "outputs": [],
   "source": [
    "# import some data to play with\n",
    "boston = datasets.load_boston()\n",
    "X = boston.data\n",
    "y = boston.target"
   ]
  },
  {
   "cell_type": "code",
   "execution_count": 5,
   "metadata": {},
   "outputs": [
    {
     "data": {
      "text/plain": [
       "array([[  6.32000000e-03,   1.80000000e+01,   2.31000000e+00, ...,\n",
       "          1.53000000e+01,   3.96900000e+02,   4.98000000e+00],\n",
       "       [  2.73100000e-02,   0.00000000e+00,   7.07000000e+00, ...,\n",
       "          1.78000000e+01,   3.96900000e+02,   9.14000000e+00],\n",
       "       [  2.72900000e-02,   0.00000000e+00,   7.07000000e+00, ...,\n",
       "          1.78000000e+01,   3.92830000e+02,   4.03000000e+00],\n",
       "       ..., \n",
       "       [  6.07600000e-02,   0.00000000e+00,   1.19300000e+01, ...,\n",
       "          2.10000000e+01,   3.96900000e+02,   5.64000000e+00],\n",
       "       [  1.09590000e-01,   0.00000000e+00,   1.19300000e+01, ...,\n",
       "          2.10000000e+01,   3.93450000e+02,   6.48000000e+00],\n",
       "       [  4.74100000e-02,   0.00000000e+00,   1.19300000e+01, ...,\n",
       "          2.10000000e+01,   3.96900000e+02,   7.88000000e+00]])"
      ]
     },
     "execution_count": 5,
     "metadata": {},
     "output_type": "execute_result"
    }
   ],
   "source": [
    "X"
   ]
  },
  {
   "cell_type": "code",
   "execution_count": 6,
   "metadata": {},
   "outputs": [
    {
     "data": {
      "text/plain": [
       "array([ 24. ,  21.6,  34.7,  33.4,  36.2,  28.7,  22.9,  27.1,  16.5,\n",
       "        18.9,  15. ,  18.9,  21.7,  20.4,  18.2,  19.9,  23.1,  17.5,\n",
       "        20.2,  18.2,  13.6,  19.6,  15.2,  14.5,  15.6,  13.9,  16.6,\n",
       "        14.8,  18.4,  21. ,  12.7,  14.5,  13.2,  13.1,  13.5,  18.9,\n",
       "        20. ,  21. ,  24.7,  30.8,  34.9,  26.6,  25.3,  24.7,  21.2,\n",
       "        19.3,  20. ,  16.6,  14.4,  19.4,  19.7,  20.5,  25. ,  23.4,\n",
       "        18.9,  35.4,  24.7,  31.6,  23.3,  19.6,  18.7,  16. ,  22.2,\n",
       "        25. ,  33. ,  23.5,  19.4,  22. ,  17.4,  20.9,  24.2,  21.7,\n",
       "        22.8,  23.4,  24.1,  21.4,  20. ,  20.8,  21.2,  20.3,  28. ,\n",
       "        23.9,  24.8,  22.9,  23.9,  26.6,  22.5,  22.2,  23.6,  28.7,\n",
       "        22.6,  22. ,  22.9,  25. ,  20.6,  28.4,  21.4,  38.7,  43.8,\n",
       "        33.2,  27.5,  26.5,  18.6,  19.3,  20.1,  19.5,  19.5,  20.4,\n",
       "        19.8,  19.4,  21.7,  22.8,  18.8,  18.7,  18.5,  18.3,  21.2,\n",
       "        19.2,  20.4,  19.3,  22. ,  20.3,  20.5,  17.3,  18.8,  21.4,\n",
       "        15.7,  16.2,  18. ,  14.3,  19.2,  19.6,  23. ,  18.4,  15.6,\n",
       "        18.1,  17.4,  17.1,  13.3,  17.8,  14. ,  14.4,  13.4,  15.6,\n",
       "        11.8,  13.8,  15.6,  14.6,  17.8,  15.4,  21.5,  19.6,  15.3,\n",
       "        19.4,  17. ,  15.6,  13.1,  41.3,  24.3,  23.3,  27. ,  50. ,\n",
       "        50. ,  50. ,  22.7,  25. ,  50. ,  23.8,  23.8,  22.3,  17.4,\n",
       "        19.1,  23.1,  23.6,  22.6,  29.4,  23.2,  24.6,  29.9,  37.2,\n",
       "        39.8,  36.2,  37.9,  32.5,  26.4,  29.6,  50. ,  32. ,  29.8,\n",
       "        34.9,  37. ,  30.5,  36.4,  31.1,  29.1,  50. ,  33.3,  30.3,\n",
       "        34.6,  34.9,  32.9,  24.1,  42.3,  48.5,  50. ,  22.6,  24.4,\n",
       "        22.5,  24.4,  20. ,  21.7,  19.3,  22.4,  28.1,  23.7,  25. ,\n",
       "        23.3,  28.7,  21.5,  23. ,  26.7,  21.7,  27.5,  30.1,  44.8,\n",
       "        50. ,  37.6,  31.6,  46.7,  31.5,  24.3,  31.7,  41.7,  48.3,\n",
       "        29. ,  24. ,  25.1,  31.5,  23.7,  23.3,  22. ,  20.1,  22.2,\n",
       "        23.7,  17.6,  18.5,  24.3,  20.5,  24.5,  26.2,  24.4,  24.8,\n",
       "        29.6,  42.8,  21.9,  20.9,  44. ,  50. ,  36. ,  30.1,  33.8,\n",
       "        43.1,  48.8,  31. ,  36.5,  22.8,  30.7,  50. ,  43.5,  20.7,\n",
       "        21.1,  25.2,  24.4,  35.2,  32.4,  32. ,  33.2,  33.1,  29.1,\n",
       "        35.1,  45.4,  35.4,  46. ,  50. ,  32.2,  22. ,  20.1,  23.2,\n",
       "        22.3,  24.8,  28.5,  37.3,  27.9,  23.9,  21.7,  28.6,  27.1,\n",
       "        20.3,  22.5,  29. ,  24.8,  22. ,  26.4,  33.1,  36.1,  28.4,\n",
       "        33.4,  28.2,  22.8,  20.3,  16.1,  22.1,  19.4,  21.6,  23.8,\n",
       "        16.2,  17.8,  19.8,  23.1,  21. ,  23.8,  23.1,  20.4,  18.5,\n",
       "        25. ,  24.6,  23. ,  22.2,  19.3,  22.6,  19.8,  17.1,  19.4,\n",
       "        22.2,  20.7,  21.1,  19.5,  18.5,  20.6,  19. ,  18.7,  32.7,\n",
       "        16.5,  23.9,  31.2,  17.5,  17.2,  23.1,  24.5,  26.6,  22.9,\n",
       "        24.1,  18.6,  30.1,  18.2,  20.6,  17.8,  21.7,  22.7,  22.6,\n",
       "        25. ,  19.9,  20.8,  16.8,  21.9,  27.5,  21.9,  23.1,  50. ,\n",
       "        50. ,  50. ,  50. ,  50. ,  13.8,  13.8,  15. ,  13.9,  13.3,\n",
       "        13.1,  10.2,  10.4,  10.9,  11.3,  12.3,   8.8,   7.2,  10.5,\n",
       "         7.4,  10.2,  11.5,  15.1,  23.2,   9.7,  13.8,  12.7,  13.1,\n",
       "        12.5,   8.5,   5. ,   6.3,   5.6,   7.2,  12.1,   8.3,   8.5,\n",
       "         5. ,  11.9,  27.9,  17.2,  27.5,  15. ,  17.2,  17.9,  16.3,\n",
       "         7. ,   7.2,   7.5,  10.4,   8.8,   8.4,  16.7,  14.2,  20.8,\n",
       "        13.4,  11.7,   8.3,  10.2,  10.9,  11. ,   9.5,  14.5,  14.1,\n",
       "        16.1,  14.3,  11.7,  13.4,   9.6,   8.7,   8.4,  12.8,  10.5,\n",
       "        17.1,  18.4,  15.4,  10.8,  11.8,  14.9,  12.6,  14.1,  13. ,\n",
       "        13.4,  15.2,  16.1,  17.8,  14.9,  14.1,  12.7,  13.5,  14.9,\n",
       "        20. ,  16.4,  17.7,  19.5,  20.2,  21.4,  19.9,  19. ,  19.1,\n",
       "        19.1,  20.1,  19.9,  19.6,  23.2,  29.8,  13.8,  13.3,  16.7,\n",
       "        12. ,  14.6,  21.4,  23. ,  23.7,  25. ,  21.8,  20.6,  21.2,\n",
       "        19.1,  20.6,  15.2,   7. ,   8.1,  13.6,  20.1,  21.8,  24.5,\n",
       "        23.1,  19.7,  18.3,  21.2,  17.5,  16.8,  22.4,  20.6,  23.9,\n",
       "        22. ,  11.9])"
      ]
     },
     "execution_count": 6,
     "metadata": {},
     "output_type": "execute_result"
    }
   ],
   "source": [
    "y"
   ]
  },
  {
   "cell_type": "code",
   "execution_count": 9,
   "metadata": {},
   "outputs": [
    {
     "name": "stdout",
     "output_type": "stream",
     "text": [
      "Boston House Prices dataset\n",
      "===========================\n",
      "\n",
      "Notes\n",
      "------\n",
      "Data Set Characteristics:  \n",
      "\n",
      "    :Number of Instances: 506 \n",
      "\n",
      "    :Number of Attributes: 13 numeric/categorical predictive\n",
      "    \n",
      "    :Median Value (attribute 14) is usually the target\n",
      "\n",
      "    :Attribute Information (in order):\n",
      "        - CRIM     per capita crime rate by town\n",
      "        - ZN       proportion of residential land zoned for lots over 25,000 sq.ft.\n",
      "        - INDUS    proportion of non-retail business acres per town\n",
      "        - CHAS     Charles River dummy variable (= 1 if tract bounds river; 0 otherwise)\n",
      "        - NOX      nitric oxides concentration (parts per 10 million)\n",
      "        - RM       average number of rooms per dwelling\n",
      "        - AGE      proportion of owner-occupied units built prior to 1940\n",
      "        - DIS      weighted distances to five Boston employment centres\n",
      "        - RAD      index of accessibility to radial highways\n",
      "        - TAX      full-value property-tax rate per $10,000\n",
      "        - PTRATIO  pupil-teacher ratio by town\n",
      "        - B        1000(Bk - 0.63)^2 where Bk is the proportion of blacks by town\n",
      "        - LSTAT    % lower status of the population\n",
      "        - MEDV     Median value of owner-occupied homes in $1000's\n",
      "\n",
      "    :Missing Attribute Values: None\n",
      "\n",
      "    :Creator: Harrison, D. and Rubinfeld, D.L.\n",
      "\n",
      "This is a copy of UCI ML housing dataset.\n",
      "http://archive.ics.uci.edu/ml/datasets/Housing\n",
      "\n",
      "\n",
      "This dataset was taken from the StatLib library which is maintained at Carnegie Mellon University.\n",
      "\n",
      "The Boston house-price data of Harrison, D. and Rubinfeld, D.L. 'Hedonic\n",
      "prices and the demand for clean air', J. Environ. Economics & Management,\n",
      "vol.5, 81-102, 1978.   Used in Belsley, Kuh & Welsch, 'Regression diagnostics\n",
      "...', Wiley, 1980.   N.B. Various transformations are used in the table on\n",
      "pages 244-261 of the latter.\n",
      "\n",
      "The Boston house-price data has been used in many machine learning papers that address regression\n",
      "problems.   \n",
      "     \n",
      "**References**\n",
      "\n",
      "   - Belsley, Kuh & Welsch, 'Regression diagnostics: Identifying Influential Data and Sources of Collinearity', Wiley, 1980. 244-261.\n",
      "   - Quinlan,R. (1993). Combining Instance-Based and Model-Based Learning. In Proceedings on the Tenth International Conference of Machine Learning, 236-243, University of Massachusetts, Amherst. Morgan Kaufmann.\n",
      "   - many more! (see http://archive.ics.uci.edu/ml/datasets/Housing)\n",
      "\n"
     ]
    }
   ],
   "source": [
    "print(boston.DESCR)"
   ]
  },
  {
   "cell_type": "code",
   "execution_count": 10,
   "metadata": {},
   "outputs": [],
   "source": [
    "X_train, X_test, y_train, y_test = train_test_split(X, y)"
   ]
  },
  {
   "cell_type": "code",
   "execution_count": 14,
   "metadata": {},
   "outputs": [],
   "source": [
    "rfr = RandomForestRegressor(n_estimators=100, n_jobs=2)"
   ]
  },
  {
   "cell_type": "code",
   "execution_count": 15,
   "metadata": {},
   "outputs": [
    {
     "data": {
      "text/plain": [
       "RandomForestRegressor(bootstrap=True, criterion='mse', max_depth=None,\n",
       "           max_features='auto', max_leaf_nodes=None,\n",
       "           min_impurity_decrease=0.0, min_impurity_split=None,\n",
       "           min_samples_leaf=1, min_samples_split=2,\n",
       "           min_weight_fraction_leaf=0.0, n_estimators=100, n_jobs=2,\n",
       "           oob_score=False, random_state=None, verbose=0, warm_start=False)"
      ]
     },
     "execution_count": 15,
     "metadata": {},
     "output_type": "execute_result"
    }
   ],
   "source": [
    "rfr.fit(X_train, y_train)"
   ]
  },
  {
   "cell_type": "code",
   "execution_count": 22,
   "metadata": {},
   "outputs": [],
   "source": [
    "y_pred = rfr.predict(X_test)"
   ]
  },
  {
   "cell_type": "code",
   "execution_count": 29,
   "metadata": {},
   "outputs": [
    {
     "data": {
      "text/plain": [
       "0.84261253033940009"
      ]
     },
     "execution_count": 29,
     "metadata": {},
     "output_type": "execute_result"
    }
   ],
   "source": [
    "from sklearn.metrics import r2_score\n",
    "r2_score(y_test, y_pred)"
   ]
  },
  {
   "cell_type": "code",
   "execution_count": 28,
   "metadata": {},
   "outputs": [
    {
     "data": {
      "text/plain": [
       "12.320013606299213"
      ]
     },
     "execution_count": 28,
     "metadata": {},
     "output_type": "execute_result"
    }
   ],
   "source": [
    "from sklearn.metrics import mean_squared_error\n",
    "mean_squared_error(y_test, y_pred)"
   ]
  },
  {
   "cell_type": "markdown",
   "metadata": {},
   "source": [
    "## Write from object into pickle"
   ]
  },
  {
   "cell_type": "code",
   "execution_count": 31,
   "metadata": {},
   "outputs": [],
   "source": [
    "pickle.dump(rfr, open(\"iris_rfr.pkl\", \"wb\"))"
   ]
  },
  {
   "cell_type": "markdown",
   "metadata": {},
   "source": [
    "## Load from pickle back into object"
   ]
  },
  {
   "cell_type": "code",
   "execution_count": 32,
   "metadata": {},
   "outputs": [],
   "source": [
    "my_random_forest = pickle.load(open(\"iris_rfr.pkl\", \"rb\"))"
   ]
  },
  {
   "cell_type": "code",
   "execution_count": 37,
   "metadata": {},
   "outputs": [
    {
     "data": {
      "text/plain": [
       "RandomForestRegressor(bootstrap=True, criterion='mse', max_depth=None,\n",
       "           max_features='auto', max_leaf_nodes=None,\n",
       "           min_impurity_decrease=0.0, min_impurity_split=None,\n",
       "           min_samples_leaf=1, min_samples_split=2,\n",
       "           min_weight_fraction_leaf=0.0, n_estimators=100, n_jobs=2,\n",
       "           oob_score=False, random_state=None, verbose=0, warm_start=False)"
      ]
     },
     "execution_count": 37,
     "metadata": {},
     "output_type": "execute_result"
    }
   ],
   "source": [
    "my_random_forest"
   ]
  },
  {
   "cell_type": "code",
   "execution_count": 38,
   "metadata": {},
   "outputs": [],
   "source": [
    "my_random_forest.fit(X_train, y_train)\n",
    "y_pred = my_random_forest.predict(X_test)"
   ]
  },
  {
   "cell_type": "code",
   "execution_count": 39,
   "metadata": {},
   "outputs": [
    {
     "data": {
      "text/plain": [
       "0.84637622646262911"
      ]
     },
     "execution_count": 39,
     "metadata": {},
     "output_type": "execute_result"
    }
   ],
   "source": [
    "from sklearn.metrics import r2_score\n",
    "r2_score(y_test, y_pred)"
   ]
  },
  {
   "cell_type": "code",
   "execution_count": 40,
   "metadata": {},
   "outputs": [
    {
     "data": {
      "text/plain": [
       "12.025398110236221"
      ]
     },
     "execution_count": 40,
     "metadata": {},
     "output_type": "execute_result"
    }
   ],
   "source": [
    "from sklearn.metrics import mean_squared_error\n",
    "mean_squared_error(y_test, y_pred)"
   ]
  },
  {
   "cell_type": "code",
   "execution_count": null,
   "metadata": {},
   "outputs": [],
   "source": []
  },
  {
   "cell_type": "code",
   "execution_count": null,
   "metadata": {},
   "outputs": [],
   "source": []
  },
  {
   "cell_type": "code",
   "execution_count": 47,
   "metadata": {},
   "outputs": [
    {
     "data": {
      "text/plain": [
       "0.19656999999999999"
      ]
     },
     "execution_count": 47,
     "metadata": {},
     "output_type": "execute_result"
    }
   ],
   "source": [
    "X_test[0][0]"
   ]
  },
  {
   "cell_type": "code",
   "execution_count": null,
   "metadata": {},
   "outputs": [],
   "source": []
  },
  {
   "cell_type": "code",
   "execution_count": 48,
   "metadata": {},
   "outputs": [
    {
     "name": "stdout",
     "output_type": "stream",
     "text": [
      "0.19657000\n",
      "22.00000000\n",
      "5.86000000\n",
      "0.00000000\n",
      "0.43100000\n",
      "6.22600000\n",
      "79.20000000\n",
      "8.05550000\n",
      "7.00000000\n",
      "330.00000000\n",
      "19.10000000\n",
      "376.14000000\n",
      "10.15000000\n"
     ]
    }
   ],
   "source": [
    "for i in X_test[0]:\n",
    "    print (format(i, '.8f'))"
   ]
  },
  {
   "cell_type": "code",
   "execution_count": 50,
   "metadata": {},
   "outputs": [
    {
     "data": {
      "text/plain": [
       "20.5"
      ]
     },
     "execution_count": 50,
     "metadata": {},
     "output_type": "execute_result"
    }
   ],
   "source": [
    "y_test[0]"
   ]
  },
  {
   "cell_type": "markdown",
   "metadata": {},
   "source": [
    "## Try out on API"
   ]
  },
  {
   "cell_type": "code",
   "execution_count": null,
   "metadata": {},
   "outputs": [],
   "source": []
  },
  {
   "cell_type": "code",
   "execution_count": 63,
   "metadata": {},
   "outputs": [
    {
     "name": "stdout",
     "output_type": "stream",
     "text": [
      "{'results': {'MEDV_hat': 21}}\n"
     ]
    }
   ],
   "source": [
    "url = \"http://localhost:8000/api\"\n",
    "\n",
    "data = json.dumps({'CRIM': 0.19657000,'ZN': 22.00000000,'INDUS': 5.86000000,\n",
    "                   'CHAS': 0.00000000,'NOX': 0.43100000,'RM': 6.22600000,\n",
    "                   'AGE': 79.20000000,'DIS': 8.05550000,'RAD': 7.00000000,\n",
    "                   'TAX': 330.00000000,'PTRATIO': 19.10000000,'B': 376.14000000,\n",
    "                   'LSTAT': 10.15000000})\n",
    "\n",
    "r = requests.post(url, data)\n",
    "print(r.json())"
   ]
  },
  {
   "cell_type": "markdown",
   "metadata": {},
   "source": [
    "## Try multiple data instances to print out predictions for more than one instance at a time"
   ]
  },
  {
   "cell_type": "code",
   "execution_count": 53,
   "metadata": {},
   "outputs": [],
   "source": [
    "import pandas as pd"
   ]
  },
  {
   "cell_type": "code",
   "execution_count": 56,
   "metadata": {},
   "outputs": [],
   "source": [
    "X_test_DF = pd.DataFrame(X_test,columns=('CRIM','ZN','INDUS','CHAS','NOX','RM','AGE','DIS','RAD','TAX','PTRATIO','B','LSTAT'))"
   ]
  },
  {
   "cell_type": "code",
   "execution_count": 64,
   "metadata": {},
   "outputs": [
    {
     "data": {
      "text/html": [
       "<div>\n",
       "<style scoped>\n",
       "    .dataframe tbody tr th:only-of-type {\n",
       "        vertical-align: middle;\n",
       "    }\n",
       "\n",
       "    .dataframe tbody tr th {\n",
       "        vertical-align: top;\n",
       "    }\n",
       "\n",
       "    .dataframe thead th {\n",
       "        text-align: right;\n",
       "    }\n",
       "</style>\n",
       "<table border=\"1\" class=\"dataframe\">\n",
       "  <thead>\n",
       "    <tr style=\"text-align: right;\">\n",
       "      <th></th>\n",
       "      <th>CRIM</th>\n",
       "      <th>ZN</th>\n",
       "      <th>INDUS</th>\n",
       "      <th>CHAS</th>\n",
       "      <th>NOX</th>\n",
       "      <th>RM</th>\n",
       "      <th>AGE</th>\n",
       "      <th>DIS</th>\n",
       "      <th>RAD</th>\n",
       "      <th>TAX</th>\n",
       "      <th>PTRATIO</th>\n",
       "      <th>B</th>\n",
       "      <th>LSTAT</th>\n",
       "    </tr>\n",
       "  </thead>\n",
       "  <tbody>\n",
       "    <tr>\n",
       "      <th>0</th>\n",
       "      <td>0.19657</td>\n",
       "      <td>22.0</td>\n",
       "      <td>5.86</td>\n",
       "      <td>0.0</td>\n",
       "      <td>0.431</td>\n",
       "      <td>6.226</td>\n",
       "      <td>79.2</td>\n",
       "      <td>8.0555</td>\n",
       "      <td>7.0</td>\n",
       "      <td>330.0</td>\n",
       "      <td>19.1</td>\n",
       "      <td>376.14</td>\n",
       "      <td>10.15</td>\n",
       "    </tr>\n",
       "    <tr>\n",
       "      <th>1</th>\n",
       "      <td>2.92400</td>\n",
       "      <td>0.0</td>\n",
       "      <td>19.58</td>\n",
       "      <td>0.0</td>\n",
       "      <td>0.605</td>\n",
       "      <td>6.101</td>\n",
       "      <td>93.0</td>\n",
       "      <td>2.2834</td>\n",
       "      <td>5.0</td>\n",
       "      <td>403.0</td>\n",
       "      <td>14.7</td>\n",
       "      <td>240.16</td>\n",
       "      <td>9.81</td>\n",
       "    </tr>\n",
       "    <tr>\n",
       "      <th>2</th>\n",
       "      <td>0.08014</td>\n",
       "      <td>0.0</td>\n",
       "      <td>5.96</td>\n",
       "      <td>0.0</td>\n",
       "      <td>0.499</td>\n",
       "      <td>5.850</td>\n",
       "      <td>41.5</td>\n",
       "      <td>3.9342</td>\n",
       "      <td>5.0</td>\n",
       "      <td>279.0</td>\n",
       "      <td>19.2</td>\n",
       "      <td>396.90</td>\n",
       "      <td>8.77</td>\n",
       "    </tr>\n",
       "  </tbody>\n",
       "</table>\n",
       "</div>"
      ],
      "text/plain": [
       "      CRIM    ZN  INDUS  CHAS    NOX     RM   AGE     DIS  RAD    TAX  \\\n",
       "0  0.19657  22.0   5.86   0.0  0.431  6.226  79.2  8.0555  7.0  330.0   \n",
       "1  2.92400   0.0  19.58   0.0  0.605  6.101  93.0  2.2834  5.0  403.0   \n",
       "2  0.08014   0.0   5.96   0.0  0.499  5.850  41.5  3.9342  5.0  279.0   \n",
       "\n",
       "   PTRATIO       B  LSTAT  \n",
       "0     19.1  376.14  10.15  \n",
       "1     14.7  240.16   9.81  \n",
       "2     19.2  396.90   8.77  "
      ]
     },
     "execution_count": 64,
     "metadata": {},
     "output_type": "execute_result"
    }
   ],
   "source": [
    "X_test_DF.head(3)"
   ]
  },
  {
   "cell_type": "code",
   "execution_count": 67,
   "metadata": {},
   "outputs": [
    {
     "data": {
      "text/plain": [
       "CRIM         0.19657\n",
       "ZN          22.00000\n",
       "INDUS        5.86000\n",
       "CHAS         0.00000\n",
       "NOX          0.43100\n",
       "RM           6.22600\n",
       "AGE         79.20000\n",
       "DIS          8.05550\n",
       "RAD          7.00000\n",
       "TAX        330.00000\n",
       "PTRATIO     19.10000\n",
       "B          376.14000\n",
       "LSTAT       10.15000\n",
       "Name: 0, dtype: float64"
      ]
     },
     "execution_count": 67,
     "metadata": {},
     "output_type": "execute_result"
    }
   ],
   "source": [
    "X_test_DF.iloc[0]"
   ]
  },
  {
   "cell_type": "code",
   "execution_count": 72,
   "metadata": {},
   "outputs": [
    {
     "data": {
      "text/plain": [
       "'{\"DIS\": 8.0555, \"INDUS\": 5.86, \"LSTAT\": 10.15, \"RM\": 6.226, \"NOX\": 0.431, \"CHAS\": 0.0, \"TAX\": 330.0, \"B\": 376.14, \"PTRATIO\": 19.1, \"CRIM\": 0.19657, \"RAD\": 7.0, \"ZN\": 22.0, \"AGE\": 79.2}'"
      ]
     },
     "execution_count": 72,
     "metadata": {},
     "output_type": "execute_result"
    }
   ],
   "source": [
    "json.dumps({'CRIM': 0.19657000,'ZN': 22.00000000,'INDUS': 5.86000000,\n",
    "                   'CHAS': 0.00000000,'NOX': 0.43100000,'RM': 6.22600000,\n",
    "                   'AGE': 79.20000000,'DIS': 8.05550000,'RAD': 7.00000000,\n",
    "                   'TAX': 330.00000000,'PTRATIO': 19.10000000,'B': 376.14000000,\n",
    "                   'LSTAT': 10.15000000})"
   ]
  },
  {
   "cell_type": "code",
   "execution_count": 73,
   "metadata": {},
   "outputs": [
    {
     "data": {
      "text/plain": [
       "'{\\n  \"DIS\": 8.0555,\\n  \"INDUS\": 5.86,\\n  \"LSTAT\": 10.15,\\n  \"RM\": 6.226,\\n  \"NOX\": 0.431,\\n  \"CHAS\": 0.0,\\n  \"TAX\": 330.0,\\n  \"B\": 376.14,\\n  \"PTRATIO\": 19.1,\\n  \"CRIM\": 0.19657,\\n  \"RAD\": 7.0,\\n  \"ZN\": 22.0,\\n  \"AGE\": 79.2\\n}'"
      ]
     },
     "execution_count": 73,
     "metadata": {},
     "output_type": "execute_result"
    }
   ],
   "source": [
    "json.dumps(json.loads(X_test_DF.iloc[0].to_json(orient='index')), indent=2)"
   ]
  },
  {
   "cell_type": "code",
   "execution_count": 70,
   "metadata": {},
   "outputs": [
    {
     "name": "stdout",
     "output_type": "stream",
     "text": [
      "{\n",
      "  \"DIS\": 8.0555,\n",
      "  \"INDUS\": 5.86,\n",
      "  \"LSTAT\": 10.15,\n",
      "  \"RM\": 6.226,\n",
      "  \"NOX\": 0.431,\n",
      "  \"CHAS\": 0.0,\n",
      "  \"TAX\": 330.0,\n",
      "  \"B\": 376.14,\n",
      "  \"PTRATIO\": 19.1,\n",
      "  \"CRIM\": 0.19657,\n",
      "  \"RAD\": 7.0,\n",
      "  \"ZN\": 22.0,\n",
      "  \"AGE\": 79.2\n",
      "}\n"
     ]
    }
   ],
   "source": [
    "print(json.dumps(json.loads(X_test_DF.iloc[0].to_json(orient='index')), indent=2))"
   ]
  },
  {
   "cell_type": "code",
   "execution_count": 69,
   "metadata": {},
   "outputs": [
    {
     "name": "stdout",
     "output_type": "stream",
     "text": [
      "{'results': {'MEDV_hat': 21}}\n"
     ]
    }
   ],
   "source": [
    "url = \"http://localhost:8000/api\"\n",
    "\n",
    "data2 = json.dumps(json.loads(X_test_DF.iloc[0].to_json(orient='index')), indent=2)\n",
    "r = requests.post(url, data2)\n",
    "print(r.json())"
   ]
  },
  {
   "cell_type": "code",
   "execution_count": null,
   "metadata": {},
   "outputs": [],
   "source": []
  },
  {
   "cell_type": "code",
   "execution_count": null,
   "metadata": {},
   "outputs": [],
   "source": []
  },
  {
   "cell_type": "code",
   "execution_count": null,
   "metadata": {},
   "outputs": [],
   "source": []
  },
  {
   "cell_type": "code",
   "execution_count": null,
   "metadata": {},
   "outputs": [],
   "source": []
  },
  {
   "cell_type": "code",
   "execution_count": null,
   "metadata": {},
   "outputs": [],
   "source": []
  },
  {
   "cell_type": "code",
   "execution_count": null,
   "metadata": {},
   "outputs": [],
   "source": []
  },
  {
   "cell_type": "code",
   "execution_count": null,
   "metadata": {},
   "outputs": [],
   "source": []
  },
  {
   "cell_type": "code",
   "execution_count": 59,
   "metadata": {},
   "outputs": [],
   "source": [
    "data = json.dumps(json.loads(X_test_DF.to_json(orient='index')), indent=2)"
   ]
  },
  {
   "cell_type": "code",
   "execution_count": 60,
   "metadata": {},
   "outputs": [
    {
     "data": {
      "text/plain": [
       "'{\\n  \"107\": {\\n    \"DIS\": 1.6102,\\n    \"INDUS\": 19.58,\\n    \"LSTAT\": 12.12,\\n    \"RM\": 5.012,\\n    \"NOX\": 0.871,\\n    \"CHAS\": 1.0,\\n    \"TAX\": 403.0,\\n    \"B\": 343.28,\\n    \"PTRATIO\": 14.7,\\n    \"CRIM\": 1.12658,\\n    \"RAD\": 5.0,\\n    \"ZN\": 0.0,\\n    \"AGE\": 88.0\\n  },\\n  \"102\": {\\n    \"DIS\": 1.8026,\\n    \"INDUS\": 18.1,\\n    \"LSTAT\": 20.62,\\n    \"RM\": 5.957,\\n    \"NOX\": 0.679,\\n    \"CHAS\": 0.0,\\n    \"TAX\": 666.0,\\n    \"B\": 16.45,\\n    \"PTRATIO\": 20.2,\\n    \"CRIM\": 73.5341,\\n    \"RAD\": 24.0,\\n    \"ZN\": 0.0,\\n    \"AGE\": 100.0\\n  },\\n  \"51\": {\\n    \"DIS\": 2.8715,\\n    \"INDUS\": 18.1,\\n    \"LSTAT\": 17.15,\\n    \"RM\": 5.952,\\n    \"NOX\": 0.655,\\n    \"CHAS\": 0.0,\\n    \"TAX\": 666.0,\\n    \"B\": 22.01,\\n    \"PTRATIO\": 20.2,\\n    \"CRIM\": 3.77498,\\n    \"RAD\": 24.0,\\n    \"ZN\": 0.0,\\n    \"AGE\": 84.7\\n  },\\n  \"20\": {\\n    \"DIS\": 8.7921,\\n    \"INDUS\": 1.25,\\n    \"LSTAT\": 5.98,\\n    \"RM\": 6.49,\\n    \"NOX\": 0.429,\\n    \"CHAS\": 0.0,\\n    \"TAX\": 335.0,\\n    \"B\": 396.9,\\n    \"PTRATIO\": 19.7,\\n    \"CRIM\": 0.06211,\\n    \"RAD\": 1.0,\\n    \"ZN\": 40.0,\\n    \"AGE\": 44.4\\n  },\\n  \"114\": {\\n    \"DIS\": 5.5605,\\n    \"INDUS\": 7.87,\\n    \"LSTAT\": 12.43,\\n    \"RM\": 6.012,\\n    \"NOX\": 0.524,\\n    \"CHAS\": 0.0,\\n    \"TAX\": 311.0,\\n    \"B\": 395.6,\\n    \"PTRATIO\": 15.2,\\n    \"CRIM\": 0.08829,\\n    \"RAD\": 5.0,\\n    \"ZN\": 12.5,\\n    \"AGE\": 66.6\\n  },\\n  \"88\": {\\n    \"DIS\": 2.4091,\\n    \"INDUS\": 9.69,\\n    \"LSTAT\": 12.92,\\n    \"RM\": 6.019,\\n    \"NOX\": 0.585,\\n    \"CHAS\": 0.0,\\n    \"TAX\": 391.0,\\n    \"B\": 396.9,\\n    \"PTRATIO\": 19.2,\\n    \"CRIM\": 0.23912,\\n    \"RAD\": 6.0,\\n    \"ZN\": 0.0,\\n    \"AGE\": 65.3\\n  },\\n  \"100\": {\\n    \"DIS\": 2.5052,\\n    \"INDUS\": 18.1,\\n    \"LSTAT\": 13.27,\\n    \"RM\": 6.395,\\n    \"NOX\": 0.77,\\n    \"CHAS\": 1.0,\\n    \"TAX\": 666.0,\\n    \"B\": 391.34,\\n    \"PTRATIO\": 20.2,\\n    \"CRIM\": 3.8497,\\n    \"RAD\": 24.0,\\n    \"ZN\": 0.0,\\n    \"AGE\": 91.0\\n  },\\n  \"7\": {\\n    \"DIS\": 2.2004,\\n    \"INDUS\": 18.1,\\n    \"LSTAT\": 12.03,\\n    \"RM\": 6.425,\\n    \"NOX\": 0.584,\\n    \"CHAS\": 0.0,\\n    \"TAX\": 666.0,\\n    \"B\": 97.95,\\n    \"PTRATIO\": 20.2,\\n    \"CRIM\": 6.44405,\\n    \"RAD\": 24.0,\\n    \"ZN\": 0.0,\\n    \"AGE\": 74.8\\n  },\\n  \"74\": {\\n    \"DIS\": 2.4527,\\n    \"INDUS\": 18.1,\\n    \"LSTAT\": 16.74,\\n    \"RM\": 7.393,\\n    \"NOX\": 0.713,\\n    \"CHAS\": 0.0,\\n    \"TAX\": 666.0,\\n    \"B\": 375.87,\\n    \"PTRATIO\": 20.2,\\n    \"CRIM\": 8.24809,\\n    \"RAD\": 24.0,\\n    \"ZN\": 0.0,\\n    \"AGE\": 99.3\\n  },\\n  \"5\": {\\n    \"DIS\": 3.5325,\\n    \"INDUS\": 9.9,\\n    \"LSTAT\": 10.36,\\n    \"RM\": 6.382,\\n    \"NOX\": 0.544,\\n    \"CHAS\": 0.0,\\n    \"TAX\": 304.0,\\n    \"B\": 395.21,\\n    \"PTRATIO\": 18.4,\\n    \"CRIM\": 0.40202,\\n    \"RAD\": 4.0,\\n    \"ZN\": 0.0,\\n    \"AGE\": 67.2\\n  },\\n  \"64\": {\\n    \"DIS\": 1.9047,\\n    \"INDUS\": 18.1,\\n    \"LSTAT\": 5.29,\\n    \"RM\": 8.78,\\n    \"NOX\": 0.718,\\n    \"CHAS\": 1.0,\\n    \"TAX\": 666.0,\\n    \"B\": 354.55,\\n    \"PTRATIO\": 20.2,\\n    \"CRIM\": 3.47428,\\n    \"RAD\": 24.0,\\n    \"ZN\": 0.0,\\n    \"AGE\": 82.9\\n  },\\n  \"15\": {\\n    \"DIS\": 5.6484,\\n    \"INDUS\": 0.46,\\n    \"LSTAT\": 2.97,\\n    \"RM\": 7.875,\\n    \"NOX\": 0.422,\\n    \"CHAS\": 0.0,\\n    \"TAX\": 255.0,\\n    \"B\": 394.23,\\n    \"PTRATIO\": 14.4,\\n    \"CRIM\": 0.01381,\\n    \"RAD\": 4.0,\\n    \"ZN\": 80.0,\\n    \"AGE\": 32.0\\n  },\\n  \"75\": {\\n    \"DIS\": 7.9549,\\n    \"INDUS\": 5.86,\\n    \"LSTAT\": 18.46,\\n    \"RM\": 5.605,\\n    \"NOX\": 0.431,\\n    \"CHAS\": 0.0,\\n    \"TAX\": 330.0,\\n    \"B\": 389.13,\\n    \"PTRATIO\": 19.1,\\n    \"CRIM\": 0.19133,\\n    \"RAD\": 7.0,\\n    \"ZN\": 22.0,\\n    \"AGE\": 70.2\\n  },\\n  \"105\": {\\n    \"DIS\": 1.4394,\\n    \"INDUS\": 21.89,\\n    \"LSTAT\": 34.41,\\n    \"RM\": 5.019,\\n    \"NOX\": 0.624,\\n    \"CHAS\": 0.0,\\n    \"TAX\": 437.0,\\n    \"B\": 396.9,\\n    \"PTRATIO\": 21.2,\\n    \"CRIM\": 1.62864,\\n    \"RAD\": 4.0,\\n    \"ZN\": 0.0,\\n    \"AGE\": 100.0\\n  },\\n  \"103\": {\\n    \"DIS\": 2.872,\\n    \"INDUS\": 3.97,\\n    \"LSTAT\": 3.16,\\n    \"RM\": 7.47,\\n    \"NOX\": 0.575,\\n    \"CHAS\": 0.0,\\n    \"TAX\": 264.0,\\n    \"B\": 390.3,\\n    \"PTRATIO\": 13.0,\\n    \"CRIM\": 0.5405,\\n    \"RAD\": 5.0,\\n    \"ZN\": 20.0,\\n    \"AGE\": 52.6\\n  },\\n  \"47\": {\\n    \"DIS\": 4.0905,\\n    \"INDUS\": 12.83,\\n    \"LSTAT\": 10.27,\\n    \"RM\": 6.14,\\n    \"NOX\": 0.437,\\n    \"CHAS\": 0.0,\\n    \"TAX\": 398.0,\\n    \"B\": 386.96,\\n    \"PTRATIO\": 18.7,\\n    \"CRIM\": 0.08707,\\n    \"RAD\": 5.0,\\n    \"ZN\": 0.0,\\n    \"AGE\": 45.8\\n  },\\n  \"12\": {\\n    \"DIS\": 5.1004,\\n    \"INDUS\": 6.91,\\n    \"LSTAT\": 14.15,\\n    \"RM\": 5.786,\\n    \"NOX\": 0.448,\\n    \"CHAS\": 0.0,\\n    \"TAX\": 233.0,\\n    \"B\": 396.9,\\n    \"PTRATIO\": 17.9,\\n    \"CRIM\": 0.18836,\\n    \"RAD\": 3.0,\\n    \"ZN\": 0.0,\\n    \"AGE\": 33.3\\n  },\\n  \"96\": {\\n    \"DIS\": 2.8016,\\n    \"INDUS\": 18.1,\\n    \"LSTAT\": 10.29,\\n    \"RM\": 6.513,\\n    \"NOX\": 0.713,\\n    \"CHAS\": 0.0,\\n    \"TAX\": 666.0,\\n    \"B\": 393.82,\\n    \"PTRATIO\": 20.2,\\n    \"CRIM\": 5.82115,\\n    \"RAD\": 24.0,\\n    \"ZN\": 0.0,\\n    \"AGE\": 89.9\\n  },\\n  \"76\": {\\n    \"DIS\": 2.5194,\\n    \"INDUS\": 9.9,\\n    \"LSTAT\": 12.64,\\n    \"RM\": 4.973,\\n    \"NOX\": 0.544,\\n    \"CHAS\": 0.0,\\n    \"TAX\": 304.0,\\n    \"B\": 350.45,\\n    \"PTRATIO\": 18.4,\\n    \"CRIM\": 2.63548,\\n    \"RAD\": 4.0,\\n    \"ZN\": 0.0,\\n    \"AGE\": 37.8\\n  },\\n  \"1\": {\\n    \"DIS\": 2.2834,\\n    \"INDUS\": 19.58,\\n    \"LSTAT\": 9.81,\\n    \"RM\": 6.101,\\n    \"NOX\": 0.605,\\n    \"CHAS\": 0.0,\\n    \"TAX\": 403.0,\\n    \"B\": 240.16,\\n    \"PTRATIO\": 14.7,\\n    \"CRIM\": 2.924,\\n    \"RAD\": 5.0,\\n    \"ZN\": 0.0,\\n    \"AGE\": 93.0\\n  },\\n  \"92\": {\\n    \"DIS\": 7.309,\\n    \"INDUS\": 1.52,\\n    \"LSTAT\": 4.08,\\n    \"RM\": 7.287,\\n    \"NOX\": 0.404,\\n    \"CHAS\": 0.0,\\n    \"TAX\": 329.0,\\n    \"B\": 396.9,\\n    \"PTRATIO\": 12.6,\\n    \"CRIM\": 0.04011,\\n    \"RAD\": 2.0,\\n    \"ZN\": 80.0,\\n    \"AGE\": 34.1\\n  },\\n  \"125\": {\\n    \"DIS\": 5.0141,\\n    \"INDUS\": 12.83,\\n    \"LSTAT\": 12.34,\\n    \"RM\": 6.232,\\n    \"NOX\": 0.437,\\n    \"CHAS\": 0.0,\\n    \"TAX\": 398.0,\\n    \"B\": 386.4,\\n    \"PTRATIO\": 18.7,\\n    \"CRIM\": 0.05646,\\n    \"RAD\": 5.0,\\n    \"ZN\": 0.0,\\n    \"AGE\": 53.7\\n  },\\n  \"82\": {\\n    \"DIS\": 5.4011,\\n    \"INDUS\": 2.95,\\n    \"LSTAT\": 4.32,\\n    \"RM\": 6.595,\\n    \"NOX\": 0.428,\\n    \"CHAS\": 0.0,\\n    \"TAX\": 252.0,\\n    \"B\": 395.63,\\n    \"PTRATIO\": 18.3,\\n    \"CRIM\": 0.02763,\\n    \"RAD\": 3.0,\\n    \"ZN\": 75.0,\\n    \"AGE\": 21.8\\n  },\\n  \"52\": {\\n    \"DIS\": 2.8893,\\n    \"INDUS\": 13.89,\\n    \"LSTAT\": 17.92,\\n    \"RM\": 5.951,\\n    \"NOX\": 0.55,\\n    \"CHAS\": 1.0,\\n    \"TAX\": 276.0,\\n    \"B\": 396.9,\\n    \"PTRATIO\": 16.4,\\n    \"CRIM\": 0.11069,\\n    \"RAD\": 5.0,\\n    \"ZN\": 0.0,\\n    \"AGE\": 93.8\\n  },\\n  \"26\": {\\n    \"DIS\": 3.0334,\\n    \"INDUS\": 18.1,\\n    \"LSTAT\": 16.29,\\n    \"RM\": 6.167,\\n    \"NOX\": 0.58,\\n    \"CHAS\": 0.0,\\n    \"TAX\": 666.0,\\n    \"B\": 396.9,\\n    \"PTRATIO\": 20.2,\\n    \"CRIM\": 4.34879,\\n    \"RAD\": 24.0,\\n    \"ZN\": 0.0,\\n    \"AGE\": 84.0\\n  },\\n  \"69\": {\\n    \"DIS\": 4.7794,\\n    \"INDUS\": 4.49,\\n    \"LSTAT\": 9.62,\\n    \"RM\": 6.389,\\n    \"NOX\": 0.449,\\n    \"CHAS\": 0.0,\\n    \"TAX\": 247.0,\\n    \"B\": 396.9,\\n    \"PTRATIO\": 18.5,\\n    \"CRIM\": 0.05059,\\n    \"RAD\": 3.0,\\n    \"ZN\": 0.0,\\n    \"AGE\": 48.0\\n  },\\n  \"116\": {\\n    \"DIS\": 5.5027,\\n    \"INDUS\": 13.92,\\n    \"LSTAT\": 8.58,\\n    \"RM\": 6.127,\\n    \"NOX\": 0.437,\\n    \"CHAS\": 0.0,\\n    \"TAX\": 289.0,\\n    \"B\": 396.9,\\n    \"PTRATIO\": 16.0,\\n    \"CRIM\": 0.08265,\\n    \"RAD\": 4.0,\\n    \"ZN\": 0.0,\\n    \"AGE\": 18.4\\n  },\\n  \"91\": {\\n    \"DIS\": 2.5182,\\n    \"INDUS\": 18.1,\\n    \"LSTAT\": 7.79,\\n    \"RM\": 6.398,\\n    \"NOX\": 0.77,\\n    \"CHAS\": 0.0,\\n    \"TAX\": 666.0,\\n    \"B\": 374.56,\\n    \"PTRATIO\": 20.2,\\n    \"CRIM\": 4.54192,\\n    \"RAD\": 24.0,\\n    \"ZN\": 0.0,\\n    \"AGE\": 88.0\\n  },\\n  \"126\": {\\n    \"DIS\": 4.8628,\\n    \"INDUS\": 6.41,\\n    \"LSTAT\": 4.16,\\n    \"RM\": 6.826,\\n    \"NOX\": 0.447,\\n    \"CHAS\": 1.0,\\n    \"TAX\": 254.0,\\n    \"B\": 393.45,\\n    \"PTRATIO\": 17.6,\\n    \"CRIM\": 0.06127,\\n    \"RAD\": 4.0,\\n    \"ZN\": 40.0,\\n    \"AGE\": 27.6\\n  },\\n  \"122\": {\\n    \"DIS\": 2.346,\\n    \"INDUS\": 21.89,\\n    \"LSTAT\": 17.31,\\n    \"RM\": 5.757,\\n    \"NOX\": 0.624,\\n    \"CHAS\": 0.0,\\n    \"TAX\": 437.0,\\n    \"B\": 262.76,\\n    \"PTRATIO\": 21.2,\\n    \"CRIM\": 0.97617,\\n    \"RAD\": 4.0,\\n    \"ZN\": 0.0,\\n    \"AGE\": 98.4\\n  },\\n  \"10\": {\\n    \"DIS\": 1.7364,\\n    \"INDUS\": 19.58,\\n    \"LSTAT\": 16.14,\\n    \"RM\": 5.272,\\n    \"NOX\": 0.871,\\n    \"CHAS\": 0.0,\\n    \"TAX\": 403.0,\\n    \"B\": 88.63,\\n    \"PTRATIO\": 14.7,\\n    \"CRIM\": 2.44668,\\n    \"RAD\": 5.0,\\n    \"ZN\": 0.0,\\n    \"AGE\": 94.0\\n  },\\n  \"42\": {\\n    \"DIS\": 2.4329,\\n    \"INDUS\": 8.56,\\n    \"LSTAT\": 12.27,\\n    \"RM\": 6.474,\\n    \"NOX\": 0.52,\\n    \"CHAS\": 0.0,\\n    \"TAX\": 384.0,\\n    \"B\": 395.24,\\n    \"PTRATIO\": 20.9,\\n    \"CRIM\": 0.12802,\\n    \"RAD\": 5.0,\\n    \"ZN\": 0.0,\\n    \"AGE\": 97.1\\n  },\\n  \"123\": {\\n    \"DIS\": 5.9853,\\n    \"INDUS\": 5.19,\\n    \"LSTAT\": 8.01,\\n    \"RM\": 6.037,\\n    \"NOX\": 0.515,\\n    \"CHAS\": 0.0,\\n    \"TAX\": 224.0,\\n    \"B\": 396.9,\\n    \"PTRATIO\": 20.2,\\n    \"CRIM\": 0.03961,\\n    \"RAD\": 5.0,\\n    \"ZN\": 0.0,\\n    \"AGE\": 34.5\\n  },\\n  \"28\": {\\n    \"DIS\": 3.3317,\\n    \"INDUS\": 18.1,\\n    \"LSTAT\": 7.74,\\n    \"RM\": 6.75,\\n    \"NOX\": 0.532,\\n    \"CHAS\": 0.0,\\n    \"TAX\": 666.0,\\n    \"B\": 393.07,\\n    \"PTRATIO\": 20.2,\\n    \"CRIM\": 5.70818,\\n    \"RAD\": 24.0,\\n    \"ZN\": 0.0,\\n    \"AGE\": 74.9\\n  },\\n  \"4\": {\\n    \"DIS\": 8.6966,\\n    \"INDUS\": 1.22,\\n    \"LSTAT\": 4.81,\\n    \"RM\": 7.249,\\n    \"NOX\": 0.403,\\n    \"CHAS\": 0.0,\\n    \"TAX\": 226.0,\\n    \"B\": 395.93,\\n    \"PTRATIO\": 17.9,\\n    \"CRIM\": 0.01311,\\n    \"RAD\": 5.0,\\n    \"ZN\": 90.0,\\n    \"AGE\": 21.9\\n  },\\n  \"63\": {\\n    \"DIS\": 5.9604,\\n    \"INDUS\": 13.92,\\n    \"LSTAT\": 6.27,\\n    \"RM\": 6.678,\\n    \"NOX\": 0.437,\\n    \"CHAS\": 0.0,\\n    \"TAX\": 289.0,\\n    \"B\": 396.9,\\n    \"PTRATIO\": 16.0,\\n    \"CRIM\": 0.12932,\\n    \"RAD\": 4.0,\\n    \"ZN\": 0.0,\\n    \"AGE\": 31.1\\n  },\\n  \"45\": {\\n    \"DIS\": 1.9142,\\n    \"INDUS\": 18.1,\\n    \"LSTAT\": 26.45,\\n    \"RM\": 6.152,\\n    \"NOX\": 0.74,\\n    \"CHAS\": 0.0,\\n    \"TAX\": 666.0,\\n    \"B\": 9.32,\\n    \"PTRATIO\": 20.2,\\n    \"CRIM\": 15.1772,\\n    \"RAD\": 24.0,\\n    \"ZN\": 0.0,\\n    \"AGE\": 100.0\\n  },\\n  \"57\": {\\n    \"DIS\": 1.6475,\\n    \"INDUS\": 18.1,\\n    \"LSTAT\": 26.64,\\n    \"RM\": 5.304,\\n    \"NOX\": 0.679,\\n    \"CHAS\": 0.0,\\n    \"TAX\": 666.0,\\n    \"B\": 127.36,\\n    \"PTRATIO\": 20.2,\\n    \"CRIM\": 25.9406,\\n    \"RAD\": 24.0,\\n    \"ZN\": 0.0,\\n    \"AGE\": 89.1\\n  },\\n  \"72\": {\\n    \"DIS\": 2.741,\\n    \"INDUS\": 2.46,\\n    \"LSTAT\": 7.56,\\n    \"RM\": 7.765,\\n    \"NOX\": 0.488,\\n    \"CHAS\": 0.0,\\n    \"TAX\": 193.0,\\n    \"B\": 395.56,\\n    \"PTRATIO\": 17.8,\\n    \"CRIM\": 0.06588,\\n    \"RAD\": 3.0,\\n    \"ZN\": 0.0,\\n    \"AGE\": 83.3\\n  },\\n  \"33\": {\\n    \"DIS\": 1.1691,\\n    \"INDUS\": 18.1,\\n    \"LSTAT\": 9.53,\\n    \"RM\": 6.216,\\n    \"NOX\": 0.631,\\n    \"CHAS\": 0.0,\\n    \"TAX\": 666.0,\\n    \"B\": 366.15,\\n    \"PTRATIO\": 20.2,\\n    \"CRIM\": 9.2323,\\n    \"RAD\": 24.0,\\n    \"ZN\": 0.0,\\n    \"AGE\": 100.0\\n  },\\n  \"101\": {\\n    \"DIS\": 1.9047,\\n    \"INDUS\": 18.1,\\n    \"LSTAT\": 14.64,\\n    \"RM\": 5.803,\\n    \"NOX\": 0.77,\\n    \"CHAS\": 1.0,\\n    \"TAX\": 666.0,\\n    \"B\": 353.04,\\n    \"PTRATIO\": 20.2,\\n    \"CRIM\": 4.22239,\\n    \"RAD\": 24.0,\\n    \"ZN\": 0.0,\\n    \"AGE\": 89.0\\n  },\\n  \"106\": {\\n    \"DIS\": 2.0527,\\n    \"INDUS\": 18.1,\\n    \"LSTAT\": 17.64,\\n    \"RM\": 6.348,\\n    \"NOX\": 0.584,\\n    \"CHAS\": 0.0,\\n    \"TAX\": 666.0,\\n    \"B\": 83.45,\\n    \"PTRATIO\": 20.2,\\n    \"CRIM\": 8.49213,\\n    \"RAD\": 24.0,\\n    \"ZN\": 0.0,\\n    \"AGE\": 86.1\\n  },\\n  \"117\": {\\n    \"DIS\": 3.99,\\n    \"INDUS\": 8.14,\\n    \"LSTAT\": 27.71,\\n    \"RM\": 5.95,\\n    \"NOX\": 0.538,\\n    \"CHAS\": 0.0,\\n    \"TAX\": 307.0,\\n    \"B\": 232.6,\\n    \"PTRATIO\": 21.0,\\n    \"CRIM\": 1.38799,\\n    \"RAD\": 4.0,\\n    \"ZN\": 0.0,\\n    \"AGE\": 82.0\\n  },\\n  \"121\": {\\n    \"DIS\": 3.875,\\n    \"INDUS\": 10.59,\\n    \"LSTAT\": 23.09,\\n    \"RM\": 5.344,\\n    \"NOX\": 0.489,\\n    \"CHAS\": 1.0,\\n    \"TAX\": 277.0,\\n    \"B\": 396.9,\\n    \"PTRATIO\": 18.6,\\n    \"CRIM\": 0.43571,\\n    \"RAD\": 4.0,\\n    \"ZN\": 0.0,\\n    \"AGE\": 100.0\\n  },\\n  \"71\": {\\n    \"DIS\": 2.1222,\\n    \"INDUS\": 18.1,\\n    \"LSTAT\": 17.6,\\n    \"RM\": 6.212,\\n    \"NOX\": 0.77,\\n    \"CHAS\": 1.0,\\n    \"TAX\": 666.0,\\n    \"B\": 377.73,\\n    \"PTRATIO\": 20.2,\\n    \"CRIM\": 8.98296,\\n    \"RAD\": 24.0,\\n    \"ZN\": 0.0,\\n    \"AGE\": 97.4\\n  },\\n  \"43\": {\\n    \"DIS\": 1.7554,\\n    \"INDUS\": 27.74,\\n    \"LSTAT\": 23.97,\\n    \"RM\": 5.414,\\n    \"NOX\": 0.609,\\n    \"CHAS\": 0.0,\\n    \"TAX\": 711.0,\\n    \"B\": 344.05,\\n    \"PTRATIO\": 20.1,\\n    \"CRIM\": 0.18337,\\n    \"RAD\": 4.0,\\n    \"ZN\": 0.0,\\n    \"AGE\": 98.3\\n  },\\n  \"54\": {\\n    \"DIS\": 2.7147,\\n    \"INDUS\": 8.56,\\n    \"LSTAT\": 10.63,\\n    \"RM\": 6.405,\\n    \"NOX\": 0.52,\\n    \"CHAS\": 0.0,\\n    \"TAX\": 384.0,\\n    \"B\": 70.8,\\n    \"PTRATIO\": 20.9,\\n    \"CRIM\": 0.22876,\\n    \"RAD\": 5.0,\\n    \"ZN\": 0.0,\\n    \"AGE\": 85.4\\n  },\\n  \"56\": {\\n    \"DIS\": 3.0923,\\n    \"INDUS\": 3.41,\\n    \"LSTAT\": 8.81,\\n    \"RM\": 6.417,\\n    \"NOX\": 0.489,\\n    \"CHAS\": 0.0,\\n    \"TAX\": 270.0,\\n    \"B\": 392.18,\\n    \"PTRATIO\": 17.8,\\n    \"CRIM\": 0.04684,\\n    \"RAD\": 2.0,\\n    \"ZN\": 0.0,\\n    \"AGE\": 66.1\\n  },\\n  \"78\": {\\n    \"DIS\": 5.4007,\\n    \"INDUS\": 4.86,\\n    \"LSTAT\": 5.29,\\n    \"RM\": 6.727,\\n    \"NOX\": 0.426,\\n    \"CHAS\": 0.0,\\n    \"TAX\": 281.0,\\n    \"B\": 396.9,\\n    \"PTRATIO\": 19.0,\\n    \"CRIM\": 0.04113,\\n    \"RAD\": 4.0,\\n    \"ZN\": 25.0,\\n    \"AGE\": 33.5\\n  },\\n  \"108\": {\\n    \"DIS\": 5.4007,\\n    \"INDUS\": 4.86,\\n    \"LSTAT\": 7.22,\\n    \"RM\": 6.619,\\n    \"NOX\": 0.426,\\n    \"CHAS\": 0.0,\\n    \"TAX\": 281.0,\\n    \"B\": 395.63,\\n    \"PTRATIO\": 19.0,\\n    \"CRIM\": 0.04462,\\n    \"RAD\": 4.0,\\n    \"ZN\": 25.0,\\n    \"AGE\": 70.4\\n  },\\n  \"80\": {\\n    \"DIS\": 1.8746,\\n    \"INDUS\": 18.1,\\n    \"LSTAT\": 15.7,\\n    \"RM\": 6.006,\\n    \"NOX\": 0.718,\\n    \"CHAS\": 0.0,\\n    \"TAX\": 666.0,\\n    \"B\": 319.98,\\n    \"PTRATIO\": 20.2,\\n    \"CRIM\": 7.02259,\\n    \"RAD\": 24.0,\\n    \"ZN\": 0.0,\\n    \"AGE\": 95.3\\n  },\\n  \"8\": {\\n    \"DIS\": 1.8347,\\n    \"INDUS\": 18.1,\\n    \"LSTAT\": 29.05,\\n    \"RM\": 6.434,\\n    \"NOX\": 0.679,\\n    \"CHAS\": 0.0,\\n    \"TAX\": 666.0,\\n    \"B\": 27.25,\\n    \"PTRATIO\": 20.2,\\n    \"CRIM\": 18.0846,\\n    \"RAD\": 24.0,\\n    \"ZN\": 0.0,\\n    \"AGE\": 100.0\\n  },\\n  \"59\": {\\n    \"DIS\": 7.0355,\\n    \"INDUS\": 4.93,\\n    \"LSTAT\": 11.22,\\n    \"RM\": 6.358,\\n    \"NOX\": 0.428,\\n    \"CHAS\": 0.0,\\n    \"TAX\": 300.0,\\n    \"B\": 372.75,\\n    \"PTRATIO\": 16.6,\\n    \"CRIM\": 0.1029,\\n    \"RAD\": 6.0,\\n    \"ZN\": 30.0,\\n    \"AGE\": 52.9\\n  },\\n  \"44\": {\\n    \"DIS\": 9.2229,\\n    \"INDUS\": 1.38,\\n    \"LSTAT\": 8.05,\\n    \"RM\": 7.104,\\n    \"NOX\": 0.4161,\\n    \"CHAS\": 0.0,\\n    \"TAX\": 216.0,\\n    \"B\": 393.24,\\n    \"PTRATIO\": 18.6,\\n    \"CRIM\": 0.01951,\\n    \"RAD\": 3.0,\\n    \"ZN\": 17.5,\\n    \"AGE\": 59.5\\n  },\\n  \"55\": {\\n    \"DIS\": 1.8589,\\n    \"INDUS\": 18.1,\\n    \"LSTAT\": 15.02,\\n    \"RM\": 6.411,\\n    \"NOX\": 0.718,\\n    \"CHAS\": 0.0,\\n    \"TAX\": 666.0,\\n    \"B\": 318.75,\\n    \"PTRATIO\": 20.2,\\n    \"CRIM\": 11.0874,\\n    \"RAD\": 24.0,\\n    \"ZN\": 0.0,\\n    \"AGE\": 100.0\\n  },\\n  \"2\": {\\n    \"DIS\": 3.9342,\\n    \"INDUS\": 5.96,\\n    \"LSTAT\": 8.77,\\n    \"RM\": 5.85,\\n    \"NOX\": 0.499,\\n    \"CHAS\": 0.0,\\n    \"TAX\": 279.0,\\n    \"B\": 396.9,\\n    \"PTRATIO\": 19.2,\\n    \"CRIM\": 0.08014,\\n    \"RAD\": 5.0,\\n    \"ZN\": 0.0,\\n    \"AGE\": 41.5\\n  },\\n  \"98\": {\\n    \"DIS\": 6.5921,\\n    \"INDUS\": 7.87,\\n    \"LSTAT\": 17.1,\\n    \"RM\": 6.004,\\n    \"NOX\": 0.524,\\n    \"CHAS\": 0.0,\\n    \"TAX\": 311.0,\\n    \"B\": 386.71,\\n    \"PTRATIO\": 15.2,\\n    \"CRIM\": 0.17004,\\n    \"RAD\": 5.0,\\n    \"ZN\": 12.5,\\n    \"AGE\": 85.9\\n  },\\n  \"25\": {\\n    \"DIS\": 4.1007,\\n    \"INDUS\": 3.33,\\n    \"LSTAT\": 4.85,\\n    \"RM\": 6.812,\\n    \"NOX\": 0.4429,\\n    \"CHAS\": 0.0,\\n    \"TAX\": 216.0,\\n    \"B\": 396.9,\\n    \"PTRATIO\": 14.9,\\n    \"CRIM\": 0.21038,\\n    \"RAD\": 5.0,\\n    \"ZN\": 20.0,\\n    \"AGE\": 32.2\\n  },\\n  \"77\": {\\n    \"DIS\": 5.9604,\\n    \"INDUS\": 13.92,\\n    \"LSTAT\": 7.39,\\n    \"RM\": 6.549,\\n    \"NOX\": 0.437,\\n    \"CHAS\": 0.0,\\n    \"TAX\": 289.0,\\n    \"B\": 392.85,\\n    \"PTRATIO\": 16.0,\\n    \"CRIM\": 0.05372,\\n    \"RAD\": 4.0,\\n    \"ZN\": 0.0,\\n    \"AGE\": 51.0\\n  },\\n  \"37\": {\\n    \"DIS\": 4.4547,\\n    \"INDUS\": 8.14,\\n    \"LSTAT\": 12.8,\\n    \"RM\": 6.495,\\n    \"NOX\": 0.538,\\n    \"CHAS\": 0.0,\\n    \"TAX\": 307.0,\\n    \"B\": 387.94,\\n    \"PTRATIO\": 21.0,\\n    \"CRIM\": 0.77299,\\n    \"RAD\": 4.0,\\n    \"ZN\": 0.0,\\n    \"AGE\": 94.4\\n  },\\n  \"31\": {\\n    \"DIS\": 2.7019,\\n    \"INDUS\": 4.05,\\n    \"LSTAT\": 9.64,\\n    \"RM\": 5.859,\\n    \"NOX\": 0.51,\\n    \"CHAS\": 0.0,\\n    \"TAX\": 296.0,\\n    \"B\": 393.23,\\n    \"PTRATIO\": 16.6,\\n    \"CRIM\": 0.08447,\\n    \"RAD\": 5.0,\\n    \"ZN\": 0.0,\\n    \"AGE\": 68.7\\n  },\\n  \"29\": {\\n    \"DIS\": 3.2721,\\n    \"INDUS\": 6.2,\\n    \"LSTAT\": 9.93,\\n    \"RM\": 6.879,\\n    \"NOX\": 0.507,\\n    \"CHAS\": 1.0,\\n    \"TAX\": 307.0,\\n    \"B\": 390.39,\\n    \"PTRATIO\": 17.4,\\n    \"CRIM\": 0.62356,\\n    \"RAD\": 8.0,\\n    \"ZN\": 0.0,\\n    \"AGE\": 77.7\\n  },\\n  \"95\": {\\n    \"DIS\": 1.7494,\\n    \"INDUS\": 19.58,\\n    \"LSTAT\": 15.12,\\n    \"RM\": 6.129,\\n    \"NOX\": 0.871,\\n    \"CHAS\": 1.0,\\n    \"TAX\": 403.0,\\n    \"B\": 321.02,\\n    \"PTRATIO\": 14.7,\\n    \"CRIM\": 1.41385,\\n    \"RAD\": 5.0,\\n    \"ZN\": 0.0,\\n    \"AGE\": 96.0\\n  },\\n  \"104\": {\\n    \"DIS\": 3.6519,\\n    \"INDUS\": 6.2,\\n    \"LSTAT\": 8.05,\\n    \"RM\": 6.726,\\n    \"NOX\": 0.507,\\n    \"CHAS\": 1.0,\\n    \"TAX\": 307.0,\\n    \"B\": 360.2,\\n    \"PTRATIO\": 17.4,\\n    \"CRIM\": 0.44791,\\n    \"RAD\": 8.0,\\n    \"ZN\": 0.0,\\n    \"AGE\": 66.5\\n  },\\n  \"87\": {\\n    \"DIS\": 5.118,\\n    \"INDUS\": 2.68,\\n    \"LSTAT\": 3.81,\\n    \"RM\": 7.853,\\n    \"NOX\": 0.4161,\\n    \"CHAS\": 0.0,\\n    \"TAX\": 224.0,\\n    \"B\": 392.78,\\n    \"PTRATIO\": 14.7,\\n    \"CRIM\": 0.0351,\\n    \"RAD\": 4.0,\\n    \"ZN\": 95.0,\\n    \"AGE\": 33.2\\n  },\\n  \"11\": {\\n    \"DIS\": 4.2515,\\n    \"INDUS\": 12.83,\\n    \"LSTAT\": 6.78,\\n    \"RM\": 6.273,\\n    \"NOX\": 0.437,\\n    \"CHAS\": 0.0,\\n    \"TAX\": 398.0,\\n    \"B\": 394.92,\\n    \"PTRATIO\": 18.7,\\n    \"CRIM\": 0.07896,\\n    \"RAD\": 5.0,\\n    \"ZN\": 0.0,\\n    \"AGE\": 6.0\\n  },\\n  \"118\": {\\n    \"DIS\": 7.0379,\\n    \"INDUS\": 1.52,\\n    \"LSTAT\": 5.49,\\n    \"RM\": 7.241,\\n    \"NOX\": 0.442,\\n    \"CHAS\": 0.0,\\n    \"TAX\": 284.0,\\n    \"B\": 394.74,\\n    \"PTRATIO\": 15.5,\\n    \"CRIM\": 0.01301,\\n    \"RAD\": 1.0,\\n    \"ZN\": 35.0,\\n    \"AGE\": 49.3\\n  },\\n  \"58\": {\\n    \"DIS\": 5.4159,\\n    \"INDUS\": 7.38,\\n    \"LSTAT\": 12.79,\\n    \"RM\": 6.083,\\n    \"NOX\": 0.493,\\n    \"CHAS\": 0.0,\\n    \"TAX\": 287.0,\\n    \"B\": 396.9,\\n    \"PTRATIO\": 19.6,\\n    \"CRIM\": 0.24103,\\n    \"RAD\": 5.0,\\n    \"ZN\": 0.0,\\n    \"AGE\": 43.7\\n  },\\n  \"110\": {\\n    \"DIS\": 4.4986,\\n    \"INDUS\": 8.14,\\n    \"LSTAT\": 8.47,\\n    \"RM\": 5.834,\\n    \"NOX\": 0.538,\\n    \"CHAS\": 0.0,\\n    \"TAX\": 307.0,\\n    \"B\": 395.62,\\n    \"PTRATIO\": 21.0,\\n    \"CRIM\": 0.62739,\\n    \"RAD\": 4.0,\\n    \"ZN\": 0.0,\\n    \"AGE\": 56.5\\n  },\\n  \"84\": {\\n    \"DIS\": 2.9084,\\n    \"INDUS\": 18.1,\\n    \"LSTAT\": 18.13,\\n    \"RM\": 5.926,\\n    \"NOX\": 0.58,\\n    \"CHAS\": 0.0,\\n    \"TAX\": 666.0,\\n    \"B\": 368.74,\\n    \"PTRATIO\": 20.2,\\n    \"CRIM\": 15.5757,\\n    \"RAD\": 24.0,\\n    \"ZN\": 0.0,\\n    \"AGE\": 71.0\\n  },\\n  \"90\": {\\n    \"DIS\": 8.9067,\\n    \"INDUS\": 5.86,\\n    \"LSTAT\": 3.53,\\n    \"RM\": 6.957,\\n    \"NOX\": 0.431,\\n    \"CHAS\": 0.0,\\n    \"TAX\": 330.0,\\n    \"B\": 386.09,\\n    \"PTRATIO\": 19.1,\\n    \"CRIM\": 0.08221,\\n    \"RAD\": 7.0,\\n    \"ZN\": 22.0,\\n    \"AGE\": 6.8\\n  },\\n  \"115\": {\\n    \"DIS\": 4.0983,\\n    \"INDUS\": 18.1,\\n    \"LSTAT\": 10.42,\\n    \"RM\": 5.762,\\n    \"NOX\": 0.532,\\n    \"CHAS\": 0.0,\\n    \"TAX\": 666.0,\\n    \"B\": 392.92,\\n    \"PTRATIO\": 20.2,\\n    \"CRIM\": 2.81838,\\n    \"RAD\": 24.0,\\n    \"ZN\": 0.0,\\n    \"AGE\": 40.3\\n  },\\n  \"23\": {\\n    \"DIS\": 1.7523,\\n    \"INDUS\": 18.1,\\n    \"LSTAT\": 14.0,\\n    \"RM\": 4.963,\\n    \"NOX\": 0.718,\\n    \"CHAS\": 0.0,\\n    \"TAX\": 666.0,\\n    \"B\": 316.03,\\n    \"PTRATIO\": 20.2,\\n    \"CRIM\": 3.69695,\\n    \"RAD\": 24.0,\\n    \"ZN\": 0.0,\\n    \"AGE\": 91.4\\n  },\\n  \"36\": {\\n    \"DIS\": 2.2616,\\n    \"INDUS\": 18.1,\\n    \"LSTAT\": 18.13,\\n    \"RM\": 6.185,\\n    \"NOX\": 0.713,\\n    \"CHAS\": 0.0,\\n    \"TAX\": 666.0,\\n    \"B\": 396.9,\\n    \"PTRATIO\": 20.2,\\n    \"CRIM\": 9.32909,\\n    \"RAD\": 24.0,\\n    \"ZN\": 0.0,\\n    \"AGE\": 98.7\\n  },\\n  \"53\": {\\n    \"DIS\": 7.309,\\n    \"INDUS\": 1.52,\\n    \"LSTAT\": 8.61,\\n    \"RM\": 7.107,\\n    \"NOX\": 0.404,\\n    \"CHAS\": 0.0,\\n    \"TAX\": 329.0,\\n    \"B\": 354.31,\\n    \"PTRATIO\": 12.6,\\n    \"CRIM\": 0.04666,\\n    \"RAD\": 2.0,\\n    \"ZN\": 80.0,\\n    \"AGE\": 36.6\\n  },\\n  \"89\": {\\n    \"DIS\": 1.9799,\\n    \"INDUS\": 21.89,\\n    \"LSTAT\": 18.34,\\n    \"RM\": 5.637,\\n    \"NOX\": 0.624,\\n    \"CHAS\": 0.0,\\n    \"TAX\": 437.0,\\n    \"B\": 396.9,\\n    \"PTRATIO\": 21.2,\\n    \"CRIM\": 0.88125,\\n    \"RAD\": 4.0,\\n    \"ZN\": 0.0,\\n    \"AGE\": 94.7\\n  },\\n  \"66\": {\\n    \"DIS\": 5.4007,\\n    \"INDUS\": 4.86,\\n    \"LSTAT\": 7.51,\\n    \"RM\": 6.167,\\n    \"NOX\": 0.426,\\n    \"CHAS\": 0.0,\\n    \"TAX\": 281.0,\\n    \"B\": 390.64,\\n    \"PTRATIO\": 19.0,\\n    \"CRIM\": 0.03551,\\n    \"RAD\": 4.0,\\n    \"ZN\": 25.0,\\n    \"AGE\": 46.7\\n  },\\n  \"70\": {\\n    \"DIS\": 6.2196,\\n    \"INDUS\": 2.93,\\n    \"LSTAT\": 5.03,\\n    \"RM\": 6.8,\\n    \"NOX\": 0.401,\\n    \"CHAS\": 0.0,\\n    \"TAX\": 265.0,\\n    \"B\": 393.37,\\n    \"PTRATIO\": 15.6,\\n    \"CRIM\": 0.02187,\\n    \"RAD\": 1.0,\\n    \"ZN\": 60.0,\\n    \"AGE\": 9.9\\n  },\\n  \"17\": {\\n    \"DIS\": 1.4395,\\n    \"INDUS\": 18.1,\\n    \"LSTAT\": 30.63,\\n    \"RM\": 4.368,\\n    \"NOX\": 0.7,\\n    \"CHAS\": 0.0,\\n    \"TAX\": 666.0,\\n    \"B\": 285.83,\\n    \"PTRATIO\": 20.2,\\n    \"CRIM\": 20.0849,\\n    \"RAD\": 24.0,\\n    \"ZN\": 0.0,\\n    \"AGE\": 91.2\\n  },\\n  \"40\": {\\n    \"DIS\": 7.2254,\\n    \"INDUS\": 5.13,\\n    \"LSTAT\": 13.15,\\n    \"RM\": 5.741,\\n    \"NOX\": 0.453,\\n    \"CHAS\": 0.0,\\n    \"TAX\": 284.0,\\n    \"B\": 395.11,\\n    \"PTRATIO\": 19.7,\\n    \"CRIM\": 0.14932,\\n    \"RAD\": 8.0,\\n    \"ZN\": 25.0,\\n    \"AGE\": 66.2\\n  },\\n  \"49\": {\\n    \"DIS\": 5.7209,\\n    \"INDUS\": 6.91,\\n    \"LSTAT\": 7.44,\\n    \"RM\": 6.211,\\n    \"NOX\": 0.448,\\n    \"CHAS\": 0.0,\\n    \"TAX\": 233.0,\\n    \"B\": 394.46,\\n    \"PTRATIO\": 17.9,\\n    \"CRIM\": 0.15936,\\n    \"RAD\": 3.0,\\n    \"ZN\": 0.0,\\n    \"AGE\": 6.5\\n  },\\n  \"50\": {\\n    \"DIS\": 6.2669,\\n    \"INDUS\": 1.89,\\n    \"LSTAT\": 8.65,\\n    \"RM\": 6.54,\\n    \"NOX\": 0.518,\\n    \"CHAS\": 0.0,\\n    \"TAX\": 422.0,\\n    \"B\": 389.96,\\n    \"PTRATIO\": 15.9,\\n    \"CRIM\": 0.02498,\\n    \"RAD\": 1.0,\\n    \"ZN\": 0.0,\\n    \"AGE\": 59.7\\n  },\\n  \"13\": {\\n    \"DIS\": 6.0622,\\n    \"INDUS\": 2.18,\\n    \"LSTAT\": 5.21,\\n    \"RM\": 6.43,\\n    \"NOX\": 0.458,\\n    \"CHAS\": 0.0,\\n    \"TAX\": 222.0,\\n    \"B\": 394.12,\\n    \"PTRATIO\": 18.7,\\n    \"CRIM\": 0.02985,\\n    \"RAD\": 3.0,\\n    \"ZN\": 0.0,\\n    \"AGE\": 58.7\\n  },\\n  \"119\": {\\n    \"DIS\": 2.3158,\\n    \"INDUS\": 18.1,\\n    \"LSTAT\": 16.22,\\n    \"RM\": 6.436,\\n    \"NOX\": 0.713,\\n    \"CHAS\": 0.0,\\n    \"TAX\": 666.0,\\n    \"B\": 100.19,\\n    \"PTRATIO\": 20.2,\\n    \"CRIM\": 5.58107,\\n    \"RAD\": 24.0,\\n    \"ZN\": 0.0,\\n    \"AGE\": 87.9\\n  },\\n  \"94\": {\\n    \"DIS\": 6.32,\\n    \"INDUS\": 13.92,\\n    \"LSTAT\": 15.84,\\n    \"RM\": 5.79,\\n    \"NOX\": 0.437,\\n    \"CHAS\": 0.0,\\n    \"TAX\": 289.0,\\n    \"B\": 396.9,\\n    \"PTRATIO\": 16.0,\\n    \"CRIM\": 0.14103,\\n    \"RAD\": 4.0,\\n    \"ZN\": 0.0,\\n    \"AGE\": 58.0\\n  },\\n  \"46\": {\\n    \"DIS\": 2.072,\\n    \"INDUS\": 18.1,\\n    \"LSTAT\": 17.79,\\n    \"RM\": 6.341,\\n    \"NOX\": 0.74,\\n    \"CHAS\": 0.0,\\n    \"TAX\": 666.0,\\n    \"B\": 318.01,\\n    \"PTRATIO\": 20.2,\\n    \"CRIM\": 6.28807,\\n    \"RAD\": 24.0,\\n    \"ZN\": 0.0,\\n    \"AGE\": 96.4\\n  },\\n  \"81\": {\\n    \"DIS\": 3.615,\\n    \"INDUS\": 15.04,\\n    \"LSTAT\": 10.59,\\n    \"RM\": 6.249,\\n    \"NOX\": 0.464,\\n    \"CHAS\": 0.0,\\n    \"TAX\": 270.0,\\n    \"B\": 396.9,\\n    \"PTRATIO\": 18.2,\\n    \"CRIM\": 0.04294,\\n    \"RAD\": 4.0,\\n    \"ZN\": 28.0,\\n    \"AGE\": 77.3\\n  },\\n  \"97\": {\\n    \"DIS\": 2.2577,\\n    \"INDUS\": 25.65,\\n    \"LSTAT\": 14.37,\\n    \"RM\": 5.87,\\n    \"NOX\": 0.581,\\n    \"CHAS\": 0.0,\\n    \"TAX\": 188.0,\\n    \"B\": 389.15,\\n    \"PTRATIO\": 19.1,\\n    \"CRIM\": 0.06899,\\n    \"RAD\": 2.0,\\n    \"ZN\": 0.0,\\n    \"AGE\": 69.7\\n  },\\n  \"85\": {\\n    \"DIS\": 1.7883,\\n    \"INDUS\": 21.89,\\n    \"LSTAT\": 17.19,\\n    \"RM\": 5.693,\\n    \"NOX\": 0.624,\\n    \"CHAS\": 0.0,\\n    \"TAX\": 437.0,\\n    \"B\": 392.11,\\n    \"PTRATIO\": 21.2,\\n    \"CRIM\": 0.25915,\\n    \"RAD\": 4.0,\\n    \"ZN\": 0.0,\\n    \"AGE\": 96.0\\n  },\\n  \"24\": {\\n    \"DIS\": 1.9444,\\n    \"INDUS\": 25.65,\\n    \"LSTAT\": 25.41,\\n    \"RM\": 5.856,\\n    \"NOX\": 0.581,\\n    \"CHAS\": 0.0,\\n    \"TAX\": 188.0,\\n    \"B\": 370.31,\\n    \"PTRATIO\": 19.1,\\n    \"CRIM\": 0.15038,\\n    \"RAD\": 2.0,\\n    \"ZN\": 0.0,\\n    \"AGE\": 97.0\\n  },\\n  \"35\": {\\n    \"DIS\": 1.8773,\\n    \"INDUS\": 19.58,\\n    \"LSTAT\": 4.59,\\n    \"RM\": 6.943,\\n    \"NOX\": 0.605,\\n    \"CHAS\": 0.0,\\n    \"TAX\": 403.0,\\n    \"B\": 363.43,\\n    \"PTRATIO\": 14.7,\\n    \"CRIM\": 1.22358,\\n    \"RAD\": 5.0,\\n    \"ZN\": 0.0,\\n    \"AGE\": 97.4\\n  },\\n  \"0\": {\\n    \"DIS\": 8.0555,\\n    \"INDUS\": 5.86,\\n    \"LSTAT\": 10.15,\\n    \"RM\": 6.226,\\n    \"NOX\": 0.431,\\n    \"CHAS\": 0.0,\\n    \"TAX\": 330.0,\\n    \"B\": 376.14,\\n    \"PTRATIO\": 19.1,\\n    \"CRIM\": 0.19657,\\n    \"RAD\": 7.0,\\n    \"ZN\": 22.0,\\n    \"AGE\": 79.2\\n  },\\n  \"61\": {\\n    \"DIS\": 4.4546,\\n    \"INDUS\": 8.14,\\n    \"LSTAT\": 16.51,\\n    \"RM\": 5.599,\\n    \"NOX\": 0.538,\\n    \"CHAS\": 0.0,\\n    \"TAX\": 307.0,\\n    \"B\": 303.42,\\n    \"PTRATIO\": 21.0,\\n    \"CRIM\": 0.84054,\\n    \"RAD\": 4.0,\\n    \"ZN\": 0.0,\\n    \"AGE\": 85.7\\n  },\\n  \"19\": {\\n    \"DIS\": 7.2255,\\n    \"INDUS\": 5.13,\\n    \"LSTAT\": 6.73,\\n    \"RM\": 6.456,\\n    \"NOX\": 0.453,\\n    \"CHAS\": 0.0,\\n    \"TAX\": 284.0,\\n    \"B\": 396.9,\\n    \"PTRATIO\": 19.7,\\n    \"CRIM\": 0.11027,\\n    \"RAD\": 8.0,\\n    \"ZN\": 25.0,\\n    \"AGE\": 67.8\\n  },\\n  \"6\": {\\n    \"DIS\": 7.6534,\\n    \"INDUS\": 1.47,\\n    \"LSTAT\": 4.56,\\n    \"RM\": 6.975,\\n    \"NOX\": 0.403,\\n    \"CHAS\": 0.0,\\n    \"TAX\": 402.0,\\n    \"B\": 396.9,\\n    \"PTRATIO\": 17.0,\\n    \"CRIM\": 0.0315,\\n    \"RAD\": 3.0,\\n    \"ZN\": 95.0,\\n    \"AGE\": 15.3\\n  },\\n  \"65\": {\\n    \"DIS\": 10.7103,\\n    \"INDUS\": 1.69,\\n    \"LSTAT\": 5.49,\\n    \"RM\": 6.579,\\n    \"NOX\": 0.411,\\n    \"CHAS\": 0.0,\\n    \"TAX\": 411.0,\\n    \"B\": 370.78,\\n    \"PTRATIO\": 18.3,\\n    \"CRIM\": 0.0795,\\n    \"RAD\": 4.0,\\n    \"ZN\": 60.0,\\n    \"AGE\": 35.9\\n  },\\n  \"73\": {\\n    \"DIS\": 3.048,\\n    \"INDUS\": 6.2,\\n    \"LSTAT\": 21.46,\\n    \"RM\": 6.164,\\n    \"NOX\": 0.507,\\n    \"CHAS\": 1.0,\\n    \"TAX\": 307.0,\\n    \"B\": 395.24,\\n    \"PTRATIO\": 17.4,\\n    \"CRIM\": 0.40771,\\n    \"RAD\": 8.0,\\n    \"ZN\": 0.0,\\n    \"AGE\": 91.3\\n  },\\n  \"111\": {\\n    \"DIS\": 5.87,\\n    \"INDUS\": 6.91,\\n    \"LSTAT\": 30.81,\\n    \"RM\": 5.399,\\n    \"NOX\": 0.448,\\n    \"CHAS\": 0.0,\\n    \"TAX\": 233.0,\\n    \"B\": 396.9,\\n    \"PTRATIO\": 17.9,\\n    \"CRIM\": 0.25387,\\n    \"RAD\": 3.0,\\n    \"ZN\": 0.0,\\n    \"AGE\": 95.3\\n  },\\n  \"39\": {\\n    \"DIS\": 2.5091,\\n    \"INDUS\": 18.1,\\n    \"LSTAT\": 12.67,\\n    \"RM\": 6.112,\\n    \"NOX\": 0.77,\\n    \"CHAS\": 0.0,\\n    \"TAX\": 666.0,\\n    \"B\": 390.74,\\n    \"PTRATIO\": 20.2,\\n    \"CRIM\": 4.26131,\\n    \"RAD\": 24.0,\\n    \"ZN\": 0.0,\\n    \"AGE\": 81.3\\n  },\\n  \"22\": {\\n    \"DIS\": 2.3887,\\n    \"INDUS\": 19.58,\\n    \"LSTAT\": 12.03,\\n    \"RM\": 5.88,\\n    \"NOX\": 0.605,\\n    \"CHAS\": 0.0,\\n    \"TAX\": 403.0,\\n    \"B\": 348.13,\\n    \"PTRATIO\": 14.7,\\n    \"CRIM\": 2.3139,\\n    \"RAD\": 5.0,\\n    \"ZN\": 0.0,\\n    \"AGE\": 97.3\\n  },\\n  \"38\": {\\n    \"DIS\": 9.1876,\\n    \"INDUS\": 0.74,\\n    \"LSTAT\": 5.77,\\n    \"RM\": 6.383,\\n    \"NOX\": 0.41,\\n    \"CHAS\": 0.0,\\n    \"TAX\": 313.0,\\n    \"B\": 396.9,\\n    \"PTRATIO\": 17.3,\\n    \"CRIM\": 0.02055,\\n    \"RAD\": 2.0,\\n    \"ZN\": 85.0,\\n    \"AGE\": 35.7\\n  },\\n  \"21\": {\\n    \"DIS\": 3.9986,\\n    \"INDUS\": 9.9,\\n    \"LSTAT\": 18.33,\\n    \"RM\": 5.914,\\n    \"NOX\": 0.544,\\n    \"CHAS\": 0.0,\\n    \"TAX\": 304.0,\\n    \"B\": 390.7,\\n    \"PTRATIO\": 18.4,\\n    \"CRIM\": 0.31827,\\n    \"RAD\": 4.0,\\n    \"ZN\": 0.0,\\n    \"AGE\": 83.2\\n  },\\n  \"120\": {\\n    \"DIS\": 1.6119,\\n    \"INDUS\": 21.89,\\n    \"LSTAT\": 24.16,\\n    \"RM\": 6.174,\\n    \"NOX\": 0.624,\\n    \"CHAS\": 0.0,\\n    \"TAX\": 437.0,\\n    \"B\": 388.08,\\n    \"PTRATIO\": 21.2,\\n    \"CRIM\": 0.2909,\\n    \"RAD\": 4.0,\\n    \"ZN\": 0.0,\\n    \"AGE\": 93.6\\n  },\\n  \"30\": {\\n    \"DIS\": 2.0635,\\n    \"INDUS\": 18.1,\\n    \"LSTAT\": 17.16,\\n    \"RM\": 5.565,\\n    \"NOX\": 0.584,\\n    \"CHAS\": 0.0,\\n    \"TAX\": 666.0,\\n    \"B\": 3.65,\\n    \"PTRATIO\": 20.2,\\n    \"CRIM\": 8.79212,\\n    \"RAD\": 24.0,\\n    \"ZN\": 0.0,\\n    \"AGE\": 70.6\\n  },\\n  \"32\": {\\n    \"DIS\": 2.4259,\\n    \"INDUS\": 19.58,\\n    \"LSTAT\": 12.14,\\n    \"RM\": 5.877,\\n    \"NOX\": 0.605,\\n    \"CHAS\": 0.0,\\n    \"TAX\": 403.0,\\n    \"B\": 227.61,\\n    \"PTRATIO\": 14.7,\\n    \"CRIM\": 1.80028,\\n    \"RAD\": 5.0,\\n    \"ZN\": 0.0,\\n    \"AGE\": 79.2\\n  },\\n  \"41\": {\\n    \"DIS\": 3.9454,\\n    \"INDUS\": 10.59,\\n    \"LSTAT\": 9.38,\\n    \"RM\": 6.375,\\n    \"NOX\": 0.489,\\n    \"CHAS\": 0.0,\\n    \"TAX\": 277.0,\\n    \"B\": 385.81,\\n    \"PTRATIO\": 18.6,\\n    \"CRIM\": 0.14052,\\n    \"RAD\": 4.0,\\n    \"ZN\": 0.0,\\n    \"AGE\": 32.3\\n  },\\n  \"113\": {\\n    \"DIS\": 3.37,\\n    \"INDUS\": 2.18,\\n    \"LSTAT\": 8.93,\\n    \"RM\": 6.616,\\n    \"NOX\": 0.472,\\n    \"CHAS\": 0.0,\\n    \"TAX\": 222.0,\\n    \"B\": 393.36,\\n    \"PTRATIO\": 18.4,\\n    \"CRIM\": 0.05479,\\n    \"RAD\": 7.0,\\n    \"ZN\": 33.0,\\n    \"AGE\": 58.1\\n  },\\n  \"68\": {\\n    \"DIS\": 1.5331,\\n    \"INDUS\": 18.1,\\n    \"LSTAT\": 24.56,\\n    \"RM\": 5.52,\\n    \"NOX\": 0.7,\\n    \"CHAS\": 0.0,\\n    \"TAX\": 666.0,\\n    \"B\": 396.9,\\n    \"PTRATIO\": 20.2,\\n    \"CRIM\": 7.99248,\\n    \"RAD\": 24.0,\\n    \"ZN\": 0.0,\\n    \"AGE\": 100.0\\n  },\\n  \"109\": {\\n    \"DIS\": 2.9634,\\n    \"INDUS\": 18.1,\\n    \"LSTAT\": 13.22,\\n    \"RM\": 6.209,\\n    \"NOX\": 0.655,\\n    \"CHAS\": 0.0,\\n    \"TAX\": 666.0,\\n    \"B\": 396.9,\\n    \"PTRATIO\": 20.2,\\n    \"CRIM\": 7.83932,\\n    \"RAD\": 24.0,\\n    \"ZN\": 0.0,\\n    \"AGE\": 65.4\\n  },\\n  \"67\": {\\n    \"DIS\": 4.5026,\\n    \"INDUS\": 12.83,\\n    \"LSTAT\": 8.94,\\n    \"RM\": 6.286,\\n    \"NOX\": 0.437,\\n    \"CHAS\": 0.0,\\n    \"TAX\": 398.0,\\n    \"B\": 383.23,\\n    \"PTRATIO\": 18.7,\\n    \"CRIM\": 0.09512,\\n    \"RAD\": 5.0,\\n    \"ZN\": 0.0,\\n    \"AGE\": 45.0\\n  },\\n  \"14\": {\\n    \"DIS\": 8.0136,\\n    \"INDUS\": 4.39,\\n    \"LSTAT\": 12.67,\\n    \"RM\": 5.898,\\n    \"NOX\": 0.442,\\n    \"CHAS\": 0.0,\\n    \"TAX\": 352.0,\\n    \"B\": 364.61,\\n    \"PTRATIO\": 18.8,\\n    \"CRIM\": 0.06162,\\n    \"RAD\": 3.0,\\n    \"ZN\": 0.0,\\n    \"AGE\": 52.3\\n  },\\n  \"112\": {\\n    \"DIS\": 8.5353,\\n    \"INDUS\": 4.15,\\n    \"LSTAT\": 6.36,\\n    \"RM\": 6.516,\\n    \"NOX\": 0.429,\\n    \"CHAS\": 0.0,\\n    \"TAX\": 351.0,\\n    \"B\": 392.43,\\n    \"PTRATIO\": 17.9,\\n    \"CRIM\": 0.0187,\\n    \"RAD\": 4.0,\\n    \"ZN\": 85.0,\\n    \"AGE\": 27.7\\n  },\\n  \"86\": {\\n    \"DIS\": 4.8122,\\n    \"INDUS\": 5.19,\\n    \"LSTAT\": 8.51,\\n    \"RM\": 6.059,\\n    \"NOX\": 0.515,\\n    \"CHAS\": 0.0,\\n    \"TAX\": 224.0,\\n    \"B\": 396.14,\\n    \"PTRATIO\": 20.2,\\n    \"CRIM\": 0.03306,\\n    \"RAD\": 5.0,\\n    \"ZN\": 0.0,\\n    \"AGE\": 37.3\\n  },\\n  \"27\": {\\n    \"DIS\": 1.4165,\\n    \"INDUS\": 18.1,\\n    \"LSTAT\": 17.21,\\n    \"RM\": 6.968,\\n    \"NOX\": 0.671,\\n    \"CHAS\": 0.0,\\n    \"TAX\": 666.0,\\n    \"B\": 396.9,\\n    \"PTRATIO\": 20.2,\\n    \"CRIM\": 88.9762,\\n    \"RAD\": 24.0,\\n    \"ZN\": 0.0,\\n    \"AGE\": 91.9\\n  },\\n  \"60\": {\\n    \"DIS\": 3.1992,\\n    \"INDUS\": 2.46,\\n    \"LSTAT\": 4.45,\\n    \"RM\": 7.831,\\n    \"NOX\": 0.488,\\n    \"CHAS\": 0.0,\\n    \"TAX\": 193.0,\\n    \"B\": 392.63,\\n    \"PTRATIO\": 17.8,\\n    \"CRIM\": 0.05602,\\n    \"RAD\": 3.0,\\n    \"ZN\": 0.0,\\n    \"AGE\": 53.6\\n  },\\n  \"79\": {\\n    \"DIS\": 4.7211,\\n    \"INDUS\": 7.38,\\n    \"LSTAT\": 6.12,\\n    \"RM\": 6.415,\\n    \"NOX\": 0.493,\\n    \"CHAS\": 0.0,\\n    \"TAX\": 287.0,\\n    \"B\": 396.9,\\n    \"PTRATIO\": 19.6,\\n    \"CRIM\": 0.34109,\\n    \"RAD\": 5.0,\\n    \"ZN\": 0.0,\\n    \"AGE\": 40.1\\n  },\\n  \"62\": {\\n    \"DIS\": 2.4699,\\n    \"INDUS\": 21.89,\\n    \"LSTAT\": 15.03,\\n    \"RM\": 5.822,\\n    \"NOX\": 0.624,\\n    \"CHAS\": 0.0,\\n    \"TAX\": 437.0,\\n    \"B\": 388.69,\\n    \"PTRATIO\": 21.2,\\n    \"CRIM\": 0.32982,\\n    \"RAD\": 4.0,\\n    \"ZN\": 0.0,\\n    \"AGE\": 95.4\\n  },\\n  \"124\": {\\n    \"DIS\": 7.9809,\\n    \"INDUS\": 5.13,\\n    \"LSTAT\": 9.5,\\n    \"RM\": 6.762,\\n    \"NOX\": 0.453,\\n    \"CHAS\": 0.0,\\n    \"TAX\": 284.0,\\n    \"B\": 395.58,\\n    \"PTRATIO\": 19.7,\\n    \"CRIM\": 0.1265,\\n    \"RAD\": 8.0,\\n    \"ZN\": 25.0,\\n    \"AGE\": 43.4\\n  },\\n  \"16\": {\\n    \"DIS\": 1.639,\\n    \"INDUS\": 18.1,\\n    \"LSTAT\": 20.31,\\n    \"RM\": 6.404,\\n    \"NOX\": 0.693,\\n    \"CHAS\": 0.0,\\n    \"TAX\": 666.0,\\n    \"B\": 376.11,\\n    \"PTRATIO\": 20.2,\\n    \"CRIM\": 9.59571,\\n    \"RAD\": 24.0,\\n    \"ZN\": 0.0,\\n    \"AGE\": 100.0\\n  },\\n  \"3\": {\\n    \"DIS\": 1.801,\\n    \"INDUS\": 3.97,\\n    \"LSTAT\": 5.12,\\n    \"RM\": 8.704,\\n    \"NOX\": 0.647,\\n    \"CHAS\": 0.0,\\n    \"TAX\": 264.0,\\n    \"B\": 389.7,\\n    \"PTRATIO\": 13.0,\\n    \"CRIM\": 0.61154,\\n    \"RAD\": 5.0,\\n    \"ZN\": 20.0,\\n    \"AGE\": 86.9\\n  },\\n  \"18\": {\\n    \"DIS\": 5.2873,\\n    \"INDUS\": 10.81,\\n    \"LSTAT\": 7.54,\\n    \"RM\": 6.245,\\n    \"NOX\": 0.413,\\n    \"CHAS\": 0.0,\\n    \"TAX\": 305.0,\\n    \"B\": 377.17,\\n    \"PTRATIO\": 19.2,\\n    \"CRIM\": 0.19539,\\n    \"RAD\": 4.0,\\n    \"ZN\": 0.0,\\n    \"AGE\": 6.2\\n  },\\n  \"99\": {\\n    \"DIS\": 4.148,\\n    \"INDUS\": 6.2,\\n    \"LSTAT\": 9.54,\\n    \"RM\": 6.631,\\n    \"NOX\": 0.507,\\n    \"CHAS\": 1.0,\\n    \"TAX\": 307.0,\\n    \"B\": 388.45,\\n    \"PTRATIO\": 17.4,\\n    \"CRIM\": 0.52058,\\n    \"RAD\": 8.0,\\n    \"ZN\": 0.0,\\n    \"AGE\": 76.5\\n  },\\n  \"83\": {\\n    \"DIS\": 1.4118,\\n    \"INDUS\": 19.58,\\n    \"LSTAT\": 26.42,\\n    \"RM\": 5.468,\\n    \"NOX\": 0.871,\\n    \"CHAS\": 0.0,\\n    \"TAX\": 403.0,\\n    \"B\": 396.9,\\n    \"PTRATIO\": 14.7,\\n    \"CRIM\": 4.0974,\\n    \"RAD\": 5.0,\\n    \"ZN\": 0.0,\\n    \"AGE\": 100.0\\n  },\\n  \"34\": {\\n    \"DIS\": 3.4952,\\n    \"INDUS\": 2.89,\\n    \"LSTAT\": 4.21,\\n    \"RM\": 8.069,\\n    \"NOX\": 0.445,\\n    \"CHAS\": 0.0,\\n    \"TAX\": 276.0,\\n    \"B\": 396.9,\\n    \"PTRATIO\": 18.0,\\n    \"CRIM\": 0.12083,\\n    \"RAD\": 2.0,\\n    \"ZN\": 0.0,\\n    \"AGE\": 76.0\\n  },\\n  \"48\": {\\n    \"DIS\": 9.2203,\\n    \"INDUS\": 3.64,\\n    \"LSTAT\": 9.25,\\n    \"RM\": 5.876,\\n    \"NOX\": 0.392,\\n    \"CHAS\": 0.0,\\n    \"TAX\": 315.0,\\n    \"B\": 395.18,\\n    \"PTRATIO\": 16.4,\\n    \"CRIM\": 0.03548,\\n    \"RAD\": 1.0,\\n    \"ZN\": 80.0,\\n    \"AGE\": 19.1\\n  },\\n  \"9\": {\\n    \"DIS\": 4.5667,\\n    \"INDUS\": 3.44,\\n    \"LSTAT\": 5.39,\\n    \"RM\": 7.185,\\n    \"NOX\": 0.437,\\n    \"CHAS\": 0.0,\\n    \"TAX\": 398.0,\\n    \"B\": 396.9,\\n    \"PTRATIO\": 15.2,\\n    \"CRIM\": 0.0837,\\n    \"RAD\": 5.0,\\n    \"ZN\": 45.0,\\n    \"AGE\": 38.9\\n  },\\n  \"93\": {\\n    \"DIS\": 2.1224,\\n    \"INDUS\": 8.56,\\n    \"LSTAT\": 14.09,\\n    \"RM\": 6.127,\\n    \"NOX\": 0.52,\\n    \"CHAS\": 0.0,\\n    \"TAX\": 384.0,\\n    \"B\": 387.69,\\n    \"PTRATIO\": 20.9,\\n    \"CRIM\": 0.13117,\\n    \"RAD\": 5.0,\\n    \"ZN\": 0.0,\\n    \"AGE\": 85.2\\n  }\\n}'"
      ]
     },
     "execution_count": 60,
     "metadata": {},
     "output_type": "execute_result"
    }
   ],
   "source": [
    "data"
   ]
  },
  {
   "cell_type": "code",
   "execution_count": null,
   "metadata": {},
   "outputs": [],
   "source": []
  },
  {
   "cell_type": "code",
   "execution_count": 62,
   "metadata": {},
   "outputs": [
    {
     "ename": "KeyboardInterrupt",
     "evalue": "",
     "output_type": "error",
     "traceback": [
      "\u001b[0;31m---------------------------------------------------------------------------\u001b[0m",
      "\u001b[0;31mKeyboardInterrupt\u001b[0m                         Traceback (most recent call last)",
      "\u001b[0;32m<ipython-input-62-3c788010348d>\u001b[0m in \u001b[0;36m<module>\u001b[0;34m()\u001b[0m\n\u001b[1;32m      3\u001b[0m \u001b[0;32mfor\u001b[0m \u001b[0minstance\u001b[0m \u001b[0;32min\u001b[0m \u001b[0mdata\u001b[0m\u001b[0;34m:\u001b[0m\u001b[0;34m\u001b[0m\u001b[0m\n\u001b[1;32m      4\u001b[0m     \u001b[0mthis\u001b[0m \u001b[0;34m=\u001b[0m \u001b[0minstance\u001b[0m\u001b[0;34m\u001b[0m\u001b[0m\n\u001b[0;32m----> 5\u001b[0;31m     \u001b[0mr\u001b[0m \u001b[0;34m=\u001b[0m \u001b[0mrequests\u001b[0m\u001b[0;34m.\u001b[0m\u001b[0mpost\u001b[0m\u001b[0;34m(\u001b[0m\u001b[0murl\u001b[0m\u001b[0;34m,\u001b[0m \u001b[0mthis\u001b[0m\u001b[0;34m)\u001b[0m\u001b[0;34m\u001b[0m\u001b[0m\n\u001b[0m\u001b[1;32m      6\u001b[0m     \u001b[0;31m#print(r.json())\u001b[0m\u001b[0;34m\u001b[0m\u001b[0;34m\u001b[0m\u001b[0m\n",
      "\u001b[0;32m~/anaconda3/envs/PY35/lib/python3.5/site-packages/requests/api.py\u001b[0m in \u001b[0;36mpost\u001b[0;34m(url, data, json, **kwargs)\u001b[0m\n\u001b[1;32m    110\u001b[0m     \"\"\"\n\u001b[1;32m    111\u001b[0m \u001b[0;34m\u001b[0m\u001b[0m\n\u001b[0;32m--> 112\u001b[0;31m     \u001b[0;32mreturn\u001b[0m \u001b[0mrequest\u001b[0m\u001b[0;34m(\u001b[0m\u001b[0;34m'post'\u001b[0m\u001b[0;34m,\u001b[0m \u001b[0murl\u001b[0m\u001b[0;34m,\u001b[0m \u001b[0mdata\u001b[0m\u001b[0;34m=\u001b[0m\u001b[0mdata\u001b[0m\u001b[0;34m,\u001b[0m \u001b[0mjson\u001b[0m\u001b[0;34m=\u001b[0m\u001b[0mjson\u001b[0m\u001b[0;34m,\u001b[0m \u001b[0;34m**\u001b[0m\u001b[0mkwargs\u001b[0m\u001b[0;34m)\u001b[0m\u001b[0;34m\u001b[0m\u001b[0m\n\u001b[0m\u001b[1;32m    113\u001b[0m \u001b[0;34m\u001b[0m\u001b[0m\n\u001b[1;32m    114\u001b[0m \u001b[0;34m\u001b[0m\u001b[0m\n",
      "\u001b[0;32m~/anaconda3/envs/PY35/lib/python3.5/site-packages/requests/api.py\u001b[0m in \u001b[0;36mrequest\u001b[0;34m(method, url, **kwargs)\u001b[0m\n\u001b[1;32m     56\u001b[0m     \u001b[0;31m# cases, and look like a memory leak in others.\u001b[0m\u001b[0;34m\u001b[0m\u001b[0;34m\u001b[0m\u001b[0m\n\u001b[1;32m     57\u001b[0m     \u001b[0;32mwith\u001b[0m \u001b[0msessions\u001b[0m\u001b[0;34m.\u001b[0m\u001b[0mSession\u001b[0m\u001b[0;34m(\u001b[0m\u001b[0;34m)\u001b[0m \u001b[0;32mas\u001b[0m \u001b[0msession\u001b[0m\u001b[0;34m:\u001b[0m\u001b[0;34m\u001b[0m\u001b[0m\n\u001b[0;32m---> 58\u001b[0;31m         \u001b[0;32mreturn\u001b[0m \u001b[0msession\u001b[0m\u001b[0;34m.\u001b[0m\u001b[0mrequest\u001b[0m\u001b[0;34m(\u001b[0m\u001b[0mmethod\u001b[0m\u001b[0;34m=\u001b[0m\u001b[0mmethod\u001b[0m\u001b[0;34m,\u001b[0m \u001b[0murl\u001b[0m\u001b[0;34m=\u001b[0m\u001b[0murl\u001b[0m\u001b[0;34m,\u001b[0m \u001b[0;34m**\u001b[0m\u001b[0mkwargs\u001b[0m\u001b[0;34m)\u001b[0m\u001b[0;34m\u001b[0m\u001b[0m\n\u001b[0m\u001b[1;32m     59\u001b[0m \u001b[0;34m\u001b[0m\u001b[0m\n\u001b[1;32m     60\u001b[0m \u001b[0;34m\u001b[0m\u001b[0m\n",
      "\u001b[0;32m~/anaconda3/envs/PY35/lib/python3.5/site-packages/requests/sessions.py\u001b[0m in \u001b[0;36mrequest\u001b[0;34m(self, method, url, params, data, headers, cookies, files, auth, timeout, allow_redirects, proxies, hooks, stream, verify, cert, json)\u001b[0m\n\u001b[1;32m    506\u001b[0m         }\n\u001b[1;32m    507\u001b[0m         \u001b[0msend_kwargs\u001b[0m\u001b[0;34m.\u001b[0m\u001b[0mupdate\u001b[0m\u001b[0;34m(\u001b[0m\u001b[0msettings\u001b[0m\u001b[0;34m)\u001b[0m\u001b[0;34m\u001b[0m\u001b[0m\n\u001b[0;32m--> 508\u001b[0;31m         \u001b[0mresp\u001b[0m \u001b[0;34m=\u001b[0m \u001b[0mself\u001b[0m\u001b[0;34m.\u001b[0m\u001b[0msend\u001b[0m\u001b[0;34m(\u001b[0m\u001b[0mprep\u001b[0m\u001b[0;34m,\u001b[0m \u001b[0;34m**\u001b[0m\u001b[0msend_kwargs\u001b[0m\u001b[0;34m)\u001b[0m\u001b[0;34m\u001b[0m\u001b[0m\n\u001b[0m\u001b[1;32m    509\u001b[0m \u001b[0;34m\u001b[0m\u001b[0m\n\u001b[1;32m    510\u001b[0m         \u001b[0;32mreturn\u001b[0m \u001b[0mresp\u001b[0m\u001b[0;34m\u001b[0m\u001b[0m\n",
      "\u001b[0;32m~/anaconda3/envs/PY35/lib/python3.5/site-packages/requests/sessions.py\u001b[0m in \u001b[0;36msend\u001b[0;34m(self, request, **kwargs)\u001b[0m\n\u001b[1;32m    616\u001b[0m \u001b[0;34m\u001b[0m\u001b[0m\n\u001b[1;32m    617\u001b[0m         \u001b[0;31m# Send the request\u001b[0m\u001b[0;34m\u001b[0m\u001b[0;34m\u001b[0m\u001b[0m\n\u001b[0;32m--> 618\u001b[0;31m         \u001b[0mr\u001b[0m \u001b[0;34m=\u001b[0m \u001b[0madapter\u001b[0m\u001b[0;34m.\u001b[0m\u001b[0msend\u001b[0m\u001b[0;34m(\u001b[0m\u001b[0mrequest\u001b[0m\u001b[0;34m,\u001b[0m \u001b[0;34m**\u001b[0m\u001b[0mkwargs\u001b[0m\u001b[0;34m)\u001b[0m\u001b[0;34m\u001b[0m\u001b[0m\n\u001b[0m\u001b[1;32m    619\u001b[0m \u001b[0;34m\u001b[0m\u001b[0m\n\u001b[1;32m    620\u001b[0m         \u001b[0;31m# Total elapsed time of the request (approximately)\u001b[0m\u001b[0;34m\u001b[0m\u001b[0;34m\u001b[0m\u001b[0m\n",
      "\u001b[0;32m~/anaconda3/envs/PY35/lib/python3.5/site-packages/requests/adapters.py\u001b[0m in \u001b[0;36msend\u001b[0;34m(self, request, stream, timeout, verify, cert, proxies)\u001b[0m\n\u001b[1;32m    438\u001b[0m                     \u001b[0mdecode_content\u001b[0m\u001b[0;34m=\u001b[0m\u001b[0;32mFalse\u001b[0m\u001b[0;34m,\u001b[0m\u001b[0;34m\u001b[0m\u001b[0m\n\u001b[1;32m    439\u001b[0m                     \u001b[0mretries\u001b[0m\u001b[0;34m=\u001b[0m\u001b[0mself\u001b[0m\u001b[0;34m.\u001b[0m\u001b[0mmax_retries\u001b[0m\u001b[0;34m,\u001b[0m\u001b[0;34m\u001b[0m\u001b[0m\n\u001b[0;32m--> 440\u001b[0;31m                     \u001b[0mtimeout\u001b[0m\u001b[0;34m=\u001b[0m\u001b[0mtimeout\u001b[0m\u001b[0;34m\u001b[0m\u001b[0m\n\u001b[0m\u001b[1;32m    441\u001b[0m                 )\n\u001b[1;32m    442\u001b[0m \u001b[0;34m\u001b[0m\u001b[0m\n",
      "\u001b[0;32m~/anaconda3/envs/PY35/lib/python3.5/site-packages/urllib3/connectionpool.py\u001b[0m in \u001b[0;36murlopen\u001b[0;34m(self, method, url, body, headers, retries, redirect, assert_same_host, timeout, pool_timeout, release_conn, chunked, body_pos, **response_kw)\u001b[0m\n\u001b[1;32m    599\u001b[0m                                                   \u001b[0mtimeout\u001b[0m\u001b[0;34m=\u001b[0m\u001b[0mtimeout_obj\u001b[0m\u001b[0;34m,\u001b[0m\u001b[0;34m\u001b[0m\u001b[0m\n\u001b[1;32m    600\u001b[0m                                                   \u001b[0mbody\u001b[0m\u001b[0;34m=\u001b[0m\u001b[0mbody\u001b[0m\u001b[0;34m,\u001b[0m \u001b[0mheaders\u001b[0m\u001b[0;34m=\u001b[0m\u001b[0mheaders\u001b[0m\u001b[0;34m,\u001b[0m\u001b[0;34m\u001b[0m\u001b[0m\n\u001b[0;32m--> 601\u001b[0;31m                                                   chunked=chunked)\n\u001b[0m\u001b[1;32m    602\u001b[0m \u001b[0;34m\u001b[0m\u001b[0m\n\u001b[1;32m    603\u001b[0m             \u001b[0;31m# If we're going to release the connection in ``finally:``, then\u001b[0m\u001b[0;34m\u001b[0m\u001b[0;34m\u001b[0m\u001b[0m\n",
      "\u001b[0;32m~/anaconda3/envs/PY35/lib/python3.5/site-packages/urllib3/connectionpool.py\u001b[0m in \u001b[0;36m_make_request\u001b[0;34m(self, conn, method, url, timeout, chunked, **httplib_request_kw)\u001b[0m\n\u001b[1;32m    355\u001b[0m             \u001b[0mconn\u001b[0m\u001b[0;34m.\u001b[0m\u001b[0mrequest_chunked\u001b[0m\u001b[0;34m(\u001b[0m\u001b[0mmethod\u001b[0m\u001b[0;34m,\u001b[0m \u001b[0murl\u001b[0m\u001b[0;34m,\u001b[0m \u001b[0;34m**\u001b[0m\u001b[0mhttplib_request_kw\u001b[0m\u001b[0;34m)\u001b[0m\u001b[0;34m\u001b[0m\u001b[0m\n\u001b[1;32m    356\u001b[0m         \u001b[0;32melse\u001b[0m\u001b[0;34m:\u001b[0m\u001b[0;34m\u001b[0m\u001b[0m\n\u001b[0;32m--> 357\u001b[0;31m             \u001b[0mconn\u001b[0m\u001b[0;34m.\u001b[0m\u001b[0mrequest\u001b[0m\u001b[0;34m(\u001b[0m\u001b[0mmethod\u001b[0m\u001b[0;34m,\u001b[0m \u001b[0murl\u001b[0m\u001b[0;34m,\u001b[0m \u001b[0;34m**\u001b[0m\u001b[0mhttplib_request_kw\u001b[0m\u001b[0;34m)\u001b[0m\u001b[0;34m\u001b[0m\u001b[0m\n\u001b[0m\u001b[1;32m    358\u001b[0m \u001b[0;34m\u001b[0m\u001b[0m\n\u001b[1;32m    359\u001b[0m         \u001b[0;31m# Reset the timeout for the recv() on the socket\u001b[0m\u001b[0;34m\u001b[0m\u001b[0;34m\u001b[0m\u001b[0m\n",
      "\u001b[0;32m~/anaconda3/envs/PY35/lib/python3.5/http/client.py\u001b[0m in \u001b[0;36mrequest\u001b[0;34m(self, method, url, body, headers)\u001b[0m\n\u001b[1;32m   1105\u001b[0m     \u001b[0;32mdef\u001b[0m \u001b[0mrequest\u001b[0m\u001b[0;34m(\u001b[0m\u001b[0mself\u001b[0m\u001b[0;34m,\u001b[0m \u001b[0mmethod\u001b[0m\u001b[0;34m,\u001b[0m \u001b[0murl\u001b[0m\u001b[0;34m,\u001b[0m \u001b[0mbody\u001b[0m\u001b[0;34m=\u001b[0m\u001b[0;32mNone\u001b[0m\u001b[0;34m,\u001b[0m \u001b[0mheaders\u001b[0m\u001b[0;34m=\u001b[0m\u001b[0;34m{\u001b[0m\u001b[0;34m}\u001b[0m\u001b[0;34m)\u001b[0m\u001b[0;34m:\u001b[0m\u001b[0;34m\u001b[0m\u001b[0m\n\u001b[1;32m   1106\u001b[0m         \u001b[0;34m\"\"\"Send a complete request to the server.\"\"\"\u001b[0m\u001b[0;34m\u001b[0m\u001b[0m\n\u001b[0;32m-> 1107\u001b[0;31m         \u001b[0mself\u001b[0m\u001b[0;34m.\u001b[0m\u001b[0m_send_request\u001b[0m\u001b[0;34m(\u001b[0m\u001b[0mmethod\u001b[0m\u001b[0;34m,\u001b[0m \u001b[0murl\u001b[0m\u001b[0;34m,\u001b[0m \u001b[0mbody\u001b[0m\u001b[0;34m,\u001b[0m \u001b[0mheaders\u001b[0m\u001b[0;34m)\u001b[0m\u001b[0;34m\u001b[0m\u001b[0m\n\u001b[0m\u001b[1;32m   1108\u001b[0m \u001b[0;34m\u001b[0m\u001b[0m\n\u001b[1;32m   1109\u001b[0m     \u001b[0;32mdef\u001b[0m \u001b[0m_set_content_length\u001b[0m\u001b[0;34m(\u001b[0m\u001b[0mself\u001b[0m\u001b[0;34m,\u001b[0m \u001b[0mbody\u001b[0m\u001b[0;34m,\u001b[0m \u001b[0mmethod\u001b[0m\u001b[0;34m)\u001b[0m\u001b[0;34m:\u001b[0m\u001b[0;34m\u001b[0m\u001b[0m\n",
      "\u001b[0;32m~/anaconda3/envs/PY35/lib/python3.5/http/client.py\u001b[0m in \u001b[0;36m_send_request\u001b[0;34m(self, method, url, body, headers)\u001b[0m\n\u001b[1;32m   1150\u001b[0m             \u001b[0;31m# default charset of iso-8859-1.\u001b[0m\u001b[0;34m\u001b[0m\u001b[0;34m\u001b[0m\u001b[0m\n\u001b[1;32m   1151\u001b[0m             \u001b[0mbody\u001b[0m \u001b[0;34m=\u001b[0m \u001b[0m_encode\u001b[0m\u001b[0;34m(\u001b[0m\u001b[0mbody\u001b[0m\u001b[0;34m,\u001b[0m \u001b[0;34m'body'\u001b[0m\u001b[0;34m)\u001b[0m\u001b[0;34m\u001b[0m\u001b[0m\n\u001b[0;32m-> 1152\u001b[0;31m         \u001b[0mself\u001b[0m\u001b[0;34m.\u001b[0m\u001b[0mendheaders\u001b[0m\u001b[0;34m(\u001b[0m\u001b[0mbody\u001b[0m\u001b[0;34m)\u001b[0m\u001b[0;34m\u001b[0m\u001b[0m\n\u001b[0m\u001b[1;32m   1153\u001b[0m \u001b[0;34m\u001b[0m\u001b[0m\n\u001b[1;32m   1154\u001b[0m     \u001b[0;32mdef\u001b[0m \u001b[0mgetresponse\u001b[0m\u001b[0;34m(\u001b[0m\u001b[0mself\u001b[0m\u001b[0;34m)\u001b[0m\u001b[0;34m:\u001b[0m\u001b[0;34m\u001b[0m\u001b[0m\n",
      "\u001b[0;32m~/anaconda3/envs/PY35/lib/python3.5/http/client.py\u001b[0m in \u001b[0;36mendheaders\u001b[0;34m(self, message_body)\u001b[0m\n\u001b[1;32m   1101\u001b[0m         \u001b[0;32melse\u001b[0m\u001b[0;34m:\u001b[0m\u001b[0;34m\u001b[0m\u001b[0m\n\u001b[1;32m   1102\u001b[0m             \u001b[0;32mraise\u001b[0m \u001b[0mCannotSendHeader\u001b[0m\u001b[0;34m(\u001b[0m\u001b[0;34m)\u001b[0m\u001b[0;34m\u001b[0m\u001b[0m\n\u001b[0;32m-> 1103\u001b[0;31m         \u001b[0mself\u001b[0m\u001b[0;34m.\u001b[0m\u001b[0m_send_output\u001b[0m\u001b[0;34m(\u001b[0m\u001b[0mmessage_body\u001b[0m\u001b[0;34m)\u001b[0m\u001b[0;34m\u001b[0m\u001b[0m\n\u001b[0m\u001b[1;32m   1104\u001b[0m \u001b[0;34m\u001b[0m\u001b[0m\n\u001b[1;32m   1105\u001b[0m     \u001b[0;32mdef\u001b[0m \u001b[0mrequest\u001b[0m\u001b[0;34m(\u001b[0m\u001b[0mself\u001b[0m\u001b[0;34m,\u001b[0m \u001b[0mmethod\u001b[0m\u001b[0;34m,\u001b[0m \u001b[0murl\u001b[0m\u001b[0;34m,\u001b[0m \u001b[0mbody\u001b[0m\u001b[0;34m=\u001b[0m\u001b[0;32mNone\u001b[0m\u001b[0;34m,\u001b[0m \u001b[0mheaders\u001b[0m\u001b[0;34m=\u001b[0m\u001b[0;34m{\u001b[0m\u001b[0;34m}\u001b[0m\u001b[0;34m)\u001b[0m\u001b[0;34m:\u001b[0m\u001b[0;34m\u001b[0m\u001b[0m\n",
      "\u001b[0;32m~/anaconda3/envs/PY35/lib/python3.5/http/client.py\u001b[0m in \u001b[0;36m_send_output\u001b[0;34m(self, message_body)\u001b[0m\n\u001b[1;32m    932\u001b[0m         \u001b[0;32mdel\u001b[0m \u001b[0mself\u001b[0m\u001b[0;34m.\u001b[0m\u001b[0m_buffer\u001b[0m\u001b[0;34m[\u001b[0m\u001b[0;34m:\u001b[0m\u001b[0;34m]\u001b[0m\u001b[0;34m\u001b[0m\u001b[0m\n\u001b[1;32m    933\u001b[0m \u001b[0;34m\u001b[0m\u001b[0m\n\u001b[0;32m--> 934\u001b[0;31m         \u001b[0mself\u001b[0m\u001b[0;34m.\u001b[0m\u001b[0msend\u001b[0m\u001b[0;34m(\u001b[0m\u001b[0mmsg\u001b[0m\u001b[0;34m)\u001b[0m\u001b[0;34m\u001b[0m\u001b[0m\n\u001b[0m\u001b[1;32m    935\u001b[0m         \u001b[0;32mif\u001b[0m \u001b[0mmessage_body\u001b[0m \u001b[0;32mis\u001b[0m \u001b[0;32mnot\u001b[0m \u001b[0;32mNone\u001b[0m\u001b[0;34m:\u001b[0m\u001b[0;34m\u001b[0m\u001b[0m\n\u001b[1;32m    936\u001b[0m             \u001b[0mself\u001b[0m\u001b[0;34m.\u001b[0m\u001b[0msend\u001b[0m\u001b[0;34m(\u001b[0m\u001b[0mmessage_body\u001b[0m\u001b[0;34m)\u001b[0m\u001b[0;34m\u001b[0m\u001b[0m\n",
      "\u001b[0;32m~/anaconda3/envs/PY35/lib/python3.5/http/client.py\u001b[0m in \u001b[0;36msend\u001b[0;34m(self, data)\u001b[0m\n\u001b[1;32m    875\u001b[0m         \u001b[0;32mif\u001b[0m \u001b[0mself\u001b[0m\u001b[0;34m.\u001b[0m\u001b[0msock\u001b[0m \u001b[0;32mis\u001b[0m \u001b[0;32mNone\u001b[0m\u001b[0;34m:\u001b[0m\u001b[0;34m\u001b[0m\u001b[0m\n\u001b[1;32m    876\u001b[0m             \u001b[0;32mif\u001b[0m \u001b[0mself\u001b[0m\u001b[0;34m.\u001b[0m\u001b[0mauto_open\u001b[0m\u001b[0;34m:\u001b[0m\u001b[0;34m\u001b[0m\u001b[0m\n\u001b[0;32m--> 877\u001b[0;31m                 \u001b[0mself\u001b[0m\u001b[0;34m.\u001b[0m\u001b[0mconnect\u001b[0m\u001b[0;34m(\u001b[0m\u001b[0;34m)\u001b[0m\u001b[0;34m\u001b[0m\u001b[0m\n\u001b[0m\u001b[1;32m    878\u001b[0m             \u001b[0;32melse\u001b[0m\u001b[0;34m:\u001b[0m\u001b[0;34m\u001b[0m\u001b[0m\n\u001b[1;32m    879\u001b[0m                 \u001b[0;32mraise\u001b[0m \u001b[0mNotConnected\u001b[0m\u001b[0;34m(\u001b[0m\u001b[0;34m)\u001b[0m\u001b[0;34m\u001b[0m\u001b[0m\n",
      "\u001b[0;32m~/anaconda3/envs/PY35/lib/python3.5/site-packages/urllib3/connection.py\u001b[0m in \u001b[0;36mconnect\u001b[0;34m(self)\u001b[0m\n\u001b[1;32m    164\u001b[0m \u001b[0;34m\u001b[0m\u001b[0m\n\u001b[1;32m    165\u001b[0m     \u001b[0;32mdef\u001b[0m \u001b[0mconnect\u001b[0m\u001b[0;34m(\u001b[0m\u001b[0mself\u001b[0m\u001b[0;34m)\u001b[0m\u001b[0;34m:\u001b[0m\u001b[0;34m\u001b[0m\u001b[0m\n\u001b[0;32m--> 166\u001b[0;31m         \u001b[0mconn\u001b[0m \u001b[0;34m=\u001b[0m \u001b[0mself\u001b[0m\u001b[0;34m.\u001b[0m\u001b[0m_new_conn\u001b[0m\u001b[0;34m(\u001b[0m\u001b[0;34m)\u001b[0m\u001b[0;34m\u001b[0m\u001b[0m\n\u001b[0m\u001b[1;32m    167\u001b[0m         \u001b[0mself\u001b[0m\u001b[0;34m.\u001b[0m\u001b[0m_prepare_conn\u001b[0m\u001b[0;34m(\u001b[0m\u001b[0mconn\u001b[0m\u001b[0;34m)\u001b[0m\u001b[0;34m\u001b[0m\u001b[0m\n\u001b[1;32m    168\u001b[0m \u001b[0;34m\u001b[0m\u001b[0m\n",
      "\u001b[0;32m~/anaconda3/envs/PY35/lib/python3.5/site-packages/urllib3/connection.py\u001b[0m in \u001b[0;36m_new_conn\u001b[0;34m(self)\u001b[0m\n\u001b[1;32m    139\u001b[0m         \u001b[0;32mtry\u001b[0m\u001b[0;34m:\u001b[0m\u001b[0;34m\u001b[0m\u001b[0m\n\u001b[1;32m    140\u001b[0m             conn = connection.create_connection(\n\u001b[0;32m--> 141\u001b[0;31m                 (self.host, self.port), self.timeout, **extra_kw)\n\u001b[0m\u001b[1;32m    142\u001b[0m \u001b[0;34m\u001b[0m\u001b[0m\n\u001b[1;32m    143\u001b[0m         \u001b[0;32mexcept\u001b[0m \u001b[0mSocketTimeout\u001b[0m \u001b[0;32mas\u001b[0m \u001b[0me\u001b[0m\u001b[0;34m:\u001b[0m\u001b[0;34m\u001b[0m\u001b[0m\n",
      "\u001b[0;32m~/anaconda3/envs/PY35/lib/python3.5/site-packages/urllib3/util/connection.py\u001b[0m in \u001b[0;36mcreate_connection\u001b[0;34m(address, timeout, source_address, socket_options)\u001b[0m\n\u001b[1;32m     71\u001b[0m             \u001b[0;32mif\u001b[0m \u001b[0msource_address\u001b[0m\u001b[0;34m:\u001b[0m\u001b[0;34m\u001b[0m\u001b[0m\n\u001b[1;32m     72\u001b[0m                 \u001b[0msock\u001b[0m\u001b[0;34m.\u001b[0m\u001b[0mbind\u001b[0m\u001b[0;34m(\u001b[0m\u001b[0msource_address\u001b[0m\u001b[0;34m)\u001b[0m\u001b[0;34m\u001b[0m\u001b[0m\n\u001b[0;32m---> 73\u001b[0;31m             \u001b[0msock\u001b[0m\u001b[0;34m.\u001b[0m\u001b[0mconnect\u001b[0m\u001b[0;34m(\u001b[0m\u001b[0msa\u001b[0m\u001b[0;34m)\u001b[0m\u001b[0;34m\u001b[0m\u001b[0m\n\u001b[0m\u001b[1;32m     74\u001b[0m             \u001b[0;32mreturn\u001b[0m \u001b[0msock\u001b[0m\u001b[0;34m\u001b[0m\u001b[0m\n\u001b[1;32m     75\u001b[0m \u001b[0;34m\u001b[0m\u001b[0m\n",
      "\u001b[0;31mKeyboardInterrupt\u001b[0m: "
     ]
    }
   ],
   "source": [
    "url = \"http://localhost:8000/api\"\n",
    "\n",
    "for instance in data:\n",
    "    this = instance\n",
    "    r = requests.post(url, this)\n",
    "    #print(r.json())"
   ]
  },
  {
   "cell_type": "code",
   "execution_count": null,
   "metadata": {},
   "outputs": [],
   "source": []
  },
  {
   "cell_type": "code",
   "execution_count": null,
   "metadata": {},
   "outputs": [],
   "source": []
  }
 ],
 "metadata": {
  "kernelspec": {
   "display_name": "Python 3",
   "language": "python",
   "name": "python3"
  },
  "language_info": {
   "codemirror_mode": {
    "name": "ipython",
    "version": 3
   },
   "file_extension": ".py",
   "mimetype": "text/x-python",
   "name": "python",
   "nbconvert_exporter": "python",
   "pygments_lexer": "ipython3",
   "version": "3.5.4"
  }
 },
 "nbformat": 4,
 "nbformat_minor": 2
}
